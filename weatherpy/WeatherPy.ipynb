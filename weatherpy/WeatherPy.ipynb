{
 "cells": [
  {
   "cell_type": "markdown",
   "id": "a8d43f54-54f4-4a7f-8f6c-8f2aedf7b125",
   "metadata": {},
   "source": [
    "# Observable trends based on the data explored below:\n",
    "\n",
    "## 1. For cities in both the Northern hemisphere and the Southern Hemisphere, distance from the equator is a good predictor of temperature.\n",
    "##    The greater the distance from the equator, the lower the city's temperature will be. This can be observed in both of the temperature vs latitude\n",
    "##    plots with linear regression and the temperature vs latitude scatter plot incorporating both Northern and Southern hemispheres.\n",
    "\n",
    "## 2. The scatter plot visualizing cloudiness vs latitude does not show a significant relationship between the two. However, there is an interesting trend in\n",
    "##    which the data is somewhat clustered at the extremes; more cities seem to be either very cloudy or have very few clouds with fewer cities having a more \n",
    "##    moderate degree of cloudiness. This is evenly distributed across latitudes, however. \n",
    "\n",
    "## 3. T"
   ]
  },
  {
   "cell_type": "code",
   "execution_count": 5,
   "id": "3a24ceb2-fac1-46f1-b0cd-08d8a79dae5f",
   "metadata": {},
   "outputs": [],
   "source": [
    "# Dependencies and Setup\n",
    "import matplotlib.pyplot as plt\n",
    "import pandas as pd\n",
    "import numpy as np\n",
    "import requests\n",
    "import time\n",
    "from scipy.stats import linregress\n",
    "import scipy.stats as st\n",
    "from pprint import pprint\n",
    "import json\n",
    "\n",
    "# Import API key\n",
    "from api_keys import weather_api_key\n",
    "\n",
    "# Incorporated citipy to determine city based on latitude and longitude\n",
    "from citipy import citipy\n",
    "\n",
    "# Output File (CSV)\n",
    "output_data_file = \"output_data/cities.csv\"\n",
    "\n",
    "# Range of latitudes and longitudes\n",
    "lat_range = (-90, 90)\n",
    "lng_range = (-180, 180)"
   ]
  },
  {
   "cell_type": "code",
   "execution_count": 6,
   "id": "a20a4737-ffaa-44e4-bb7e-c3ab5670bfbd",
   "metadata": {},
   "outputs": [
    {
     "name": "stdout",
     "output_type": "stream",
     "text": [
      "['conceicao do araguaia', 'qaanaaq', 'tuktoyaktuk', 'bambous virieux', 'butaritari', 'rikitea', 'timbiqui', 'east london', 'doctor pedro p. pena', 'gold coast', 'shakawe', 'college', 'port elizabeth', 'vila', 'mosetse', 'gravdal', 'la ronge', 'pallasovka', 'lupiro', 'sao filipe', 'torbay', 'lebu', 'poltava', 'gejiu', 'panaba', 'vaitupu', 'chuy', 'san patricio', 'synya', 'de aar', 'thompson', 'batemans bay', 'mitsamiouli', 'grand-santi', 'avarua', 'albany', 'presidencia roque saenz pena', 'camacha', 'sarh', 'huarmey', 'cape town', 'belushya guba', 'sivaki', 'arraial do cabo', 'jamestown', 'bluff', 'punta arenas', 'bubaque', 'hanyang', 'ushuaia', 'kapuskasing', 'praia', 'alpena', 'sentyabrskiy', 'awbari', 'kerrobert', 'baruun-urt', 'yirol', 'saskylakh', 'kangaatsiaq', 'juegang', 'hobart', 'okha', 'buraydah', 'turukhansk', 'yellowknife', 'atuona', 'guarapari', 'biak', 'busselton', 'salta', 'bredasdorp', 'bethel', 'chara', 'yeppoon', 'marcona', 'tasiilaq', 'kapaa', 'porto torres', 'castro', 'ancud', 'saint-georges', 'marsh harbour', 'marawi', 'hilo', 'vallenar', 'inta', 'egvekinot', 'carangola', 'yamada', 'gberia fotombu', 'ust-bolsheretsk', 'espinosa', 'korla', 'attawapiskat', 'stornoway', 'bengkulu', 'chaoyang', 'komsomolets', 'barrow', 'deputatskiy', 'sorland', 'dharchula', 'khatanga', 'luderitz', 'upornaya', 'victoria', 'vaini', 'airai', 'cornwall', 'coahuayana', 'toppenish', 'belaya gora', 'grindavik', 'durres', 'namibe', 'carnarvon', 'lumphat', 'hermanus', 'hambantota', 'moose factory', 'ximei', 'saint george', 'cap malheureux', 'havelock', 'mataura', 'kasangulu', 'lompoc', 'ahipara', 'alindao', 'kulhudhuffushi', 'kaitangata', 'mao', 'oktyabrskiy', 'arman', 'miyako', 'vardo', 'tiksi', 'vao', 'omis', 'houma', 'dikson', 'raudeberg', 'zapolyarnyy', 'faya', 'mar del plata', 'puerto narino', 'kodiak', 'high level', 'touros', 'macaboboni', 'esil', 'lata', 'hithadhoo', 'san cristobal', 'chokurdakh', 'illoqqortoormiut', 'ostrovnoy', 'margate', 'puerto ayora', 'ponta do sol', 'ixtapa', 'tazovskiy', 'taolanaro', 'severo-kurilsk', 'viedma', 'archidona', 'dunedin', 'broken hill', 'esmeraldas', 'takoradi', 'yako', 'amderma', 'port alfred', 'shache', 'brigantine', 'port hedland', 'georgetown', 'zelenets', 'fez', 'aguimes', 'saint-philippe', 'coihaique', 'provideniya', 'vilyuysk', 'timmins', 'sisimiut', 'leningradskiy', 'rorvik', 'samalaeulu', 'macenta', 'bilibino', 'asbe teferi', 'saleaula', 'boyuibe', 'graciano sanchez', 'bousse', 'lagoa', 'kuche', 'vikhorevka', 'esperance', 'olinda', 'san pedro', 'okhotsk', 'hamilton', 'orlik', 'sitrah', 'cherskiy', 'goderich', 'manacapuru', 'acapulco', 'kampot', 'new norfolk', 'kalmunai', 'bathsheba', 'general pico', 'labuhan', 'barentsburg', 'pundaguitan', 'viamao', 'zelenokumsk', 'ust-tsilma', 'krizevci', 'waingapu', 'srednekolymsk', 'kraskino', 'saint-augustin', 'norman wells', 'tura', 'mount gambier', 'meadow lake', 'naze', 'kudahuvadhoo', 'zhuhai', 'yoichi', 'tsihombe', 'nemuro', 'san quintin', 'manzhouli', 'gorontalo', 'souillac', 'boralday', 'longyearbyen', 'opuwo', 'singkang', 'saldanha', 'kihei', 'pevek', 'khormuj', 'plouzane', 'hualmay', 'ojinaga', 'fortuna', 'cockburn town', 'mahaicony', 'san joaquin', 'nyangao', 'ambunti', 'port blair', 'zonguldak', 'longlac', 'nyagan', 'lima', 'tadine', 'kumba', 'mys shmidta', 'pau dos ferros', 'pavino', 'autun', 'karratha', 'palmer', 'oksfjord', 'severnyy', 'klyuchi', 'port-gentil', 'jutai', 'sioux lookout', 'yima', 'poso', 'kropotkin', 'iqaluit', 'vestmannaeyjar', 'baculin', 'maniitsoq', 'tortoli', 'dhandhuka', 'umea', 'quelimane', 'preobrazheniye', 'linxia', 'meyungs', 'uyuni', 'salalah', 'usinsk', 'markova', 'agucadoura', 'kavaratti', 'vernon', 'kruisfontein', 'faanui', 'byron bay', 'gazli', 'krasnoselkup', 'falealupo', 'sosnovo-ozerskoye', 'fairbanks', 'lucapa', 'porto murtinho', 'dongsheng', 'sitka', 'bud', 'mrirt', 'langsa', 'nikolskoye', 'constitucion', 'ji-parana', 'ballina', 'rawson', 'talara', 'daxian', 'palabuhanratu', 'pacific grove', 'itoman', 'berezanka', 'belluno', 'grahamstown', 'narsaq', 'aykhal', 'chapais', 'mahebourg', 'shitanjing', 'rapla', 'baiquan', 'ipatovo', 'upernavik', 'alofi', 'rakaia', 'nanortalik', 'walvis bay', 'kenai', 'issaquah', 'richards bay', 'hami', 'cambridge', 'bundaberg', 'taiobeiras', 'dalby', 'zhitikara', 'mabaruma', 'los llanos de aridane', 'nome', 'tshikapa', 'calatrava', 'kavieng', 'komsomolskiy', 'sar-e pul', 'hovd', 'saint albans', 'poya', 'amuntai', 'freeport', 'te anau', 'lavrentiya', 'constantine', 'juneau', 'kyshtovka', 'maykain', 'la asuncion', 'tumannyy', 'mangrol', 'rawannawi', 'chadiza', 'boa vista', 'torit', 'black river', 'nuuk', 'quatre cocos', 'ippy', 'honiara', 'manjakandriana', 'dudinka', 'amalner', 'erenhot', 'tubruq', 'mutsamudu', 'marzuq', 'puerto escondido', 'nizwa', 'yar-sale', 'guerrero negro', 'clyde river', 'sao jose da coroa grande', 'santa cruz de tenerife', 'ulan-ude', 'nantucket', 'luanda', 'badou', 'akranes', 'talnakh', 'karkaralinsk', 'tyulgan', 'maua', 'taoudenni', 'valledupar', 'campbellton', 'beroroha', 'zuya', 'vanimo', 'aripuana', 'ust-nera', 'sault sainte marie', 'ifakara', 'boyolangu', 'awjilah', 'beringovskiy', 'rantepao', 'roma', 'kaohsiung', 'camacari', 'skibbereen', 'road town', 'san jeronimo', 'tougan', 'vitimskiy', 'kaman', 'marathopolis', 'aklavik', 'geraldton', 'fremont', 'mayumba', 'alugan', 'poum', 'morondava', 'rincon', 'pozhva', 'villazon', 'beloha', 'vetluga', 'lloydminster', 'nizhneyansk', 'po', 'santo antonio do ica', 'lazaro cardenas', 'vermilion', 'ambanja', 'labuan', 'repatriacion', 'taksimo', 'laguna', 'urdzhar', 'imbituba', 'tacuati', 'bosanski novi', 'honningsvag', 'necochea', 'broome', 'jumla', 'cayenne', 'maloy', 'bristol', 'kalomo', 'jining', 'henderson', 'codrington', 'tilichiki', 'oyem', 'peterhead', 'ust-kamchatsk', 'mangai', 'araouane', 'shelburne', 'venado tuerto', 'boueni', 'cabo san lucas', 'wagar', 'moanda', 'houston', 'kerteh', 'batagay-alyta', 'dunmore town', 'umzimvubu', 'gibara', 'cairns', 'barinas', 'yarumal', 'conde', 'west bay', 'sola', 'ulagan', 'hofn', 'satipo', 'koutsouras', 'rapid city', 'dmytrivka', 'flinders', 'grand river south east', 'zhanaozen', 'luau', 'artyk', 'fare', 'hirara', 'usak', 'lumeje', 'kremenchuk', 'kamyshevatskaya', 'ilulissat', 'kitzbuhel', 'brownwood', 'khasan', 'namatanai', 'portland', 'ivaipora', 'kaitong', 'campbell river', 'kloulklubed', 'pangnirtung', 'gali', 'nyamuswa', 'yian', 'rastede', 'magistralnyy', 'pisco', 'umm kaddadah', 'qualiano', 'samusu', 'half moon bay', 'lodja', 'yasnogorsk', 'gerash', 'ampanihy', 'onguday', 'traverse city', 'husavik', 'ketchikan', 'dingle', 'zhigansk', 'cidreira', 'lorengau', 'morro bay', 'tessalit', 'terrace bay', 'wanning', 'wuhu', 'yazoo city', 'guanica', 'fukue', 'bonthe', 'tucuman', 'sebnitz', 'mikhaylovka', 'huambo', 'bafoulabe', 'sao francisco do sul', 'kahului', 'champerico', 'san andres', 'santa cruz de la palma', 'derzhavinsk', 'matay', 'meulaboh', 'inhambane', 'kitakata', 'toliary', 'hasaki', 'henties bay', 'arandis', 'ust-kalmanka', 'methoni', 'nisia floresta', 'sinkat', 'charlestown', 'mitu', 'piet retief', 'altay', 'tidore', 'kidodi', 'kharp', 'sampit', 'barcelos', 'luziania', 'yaan', 'akyab', 'anaconda', 'arlit', 'novobeysugskaya', 'oistins', 'jinchengjiang', 'nouadhibou', 'rio gallegos', 'alta floresta', 'breyten', 'brae', 'berlevag', 'phonhong', 'havre-saint-pierre', 'ciudad bolivar', 'ambulu', 'dolbeau', 'jaciara', 'muros', 'naifaru', 'kirksville', 'mizdah', 'tanout', 'port lincoln', 'esna', 'kushikino', 'gamba', 'benguela', 'emerald', 'jasmine estates', 'musoma', 'emba', 'ossora', 'shahr-e babak', 'corrales', 'atbasar', 'kamenka', 'lang suan', 'albesti-paleologu', 'forssa', 'devonport', 'narimanov', 'xai-xai', 'irbeyskoye', 'grand gaube', 'morgan city', 'talcahuano', 'behat', 'caxito', 'atasu', 'encruzilhada', 'pandamatenga', 'cozumel', 'merauke', 'isangel', 'sambava', 'tocopilla', 'ternate', 'chicama', 'mayor pablo lagerenza', 'etampes', 'mareeba', 'tayturka', 'ken caryl', 'williams lake']\n"
     ]
    }
   ],
   "source": [
    "# List for holding lat_lngs and cities\n",
    "lat_lngs = []\n",
    "cities = []\n",
    "\n",
    "# Create a set of random lat and lng combinations\n",
    "lats = np.random.uniform(lat_range[0], lat_range[1], size=1500)\n",
    "lngs = np.random.uniform(lng_range[0], lng_range[1], size=1500)\n",
    "lat_lngs = zip(lats, lngs)\n",
    "\n",
    "# Identify nearest city for each lat, lng combination\n",
    "for lat_lng in lat_lngs:\n",
    "    city = citipy.nearest_city(lat_lng[0], lat_lng[1]).city_name\n",
    "    \n",
    "    # If the city is unique, then add it to a our cities list\n",
    "    if city not in cities:\n",
    "        cities.append(city)\n",
    "\n",
    "# Print the city count to confirm sufficient count\n",
    "print(cities)"
   ]
  },
  {
   "cell_type": "code",
   "execution_count": 7,
   "id": "89081070-d0f8-4d51-b8c5-c9a55356c3b9",
   "metadata": {},
   "outputs": [
    {
     "name": "stdout",
     "output_type": "stream",
     "text": [
      "{'base': 'stations',\n",
      " 'clouds': {'all': 90},\n",
      " 'cod': 200,\n",
      " 'coord': {'lat': 51.5085, 'lon': -0.1257},\n",
      " 'dt': 1627337376,\n",
      " 'id': 2643743,\n",
      " 'main': {'feels_like': 65.84,\n",
      "          'humidity': 83,\n",
      "          'pressure': 1010,\n",
      "          'temp': 65.68,\n",
      "          'temp_max': 67.96,\n",
      "          'temp_min': 61.77},\n",
      " 'name': 'London',\n",
      " 'sys': {'country': 'GB',\n",
      "         'id': 2019646,\n",
      "         'sunrise': 1627272927,\n",
      "         'sunset': 1627329499,\n",
      "         'type': 2},\n",
      " 'timezone': 3600,\n",
      " 'visibility': 10000,\n",
      " 'weather': [{'description': 'overcast clouds',\n",
      "              'icon': '04n',\n",
      "              'id': 804,\n",
      "              'main': 'Clouds'}],\n",
      " 'wind': {'deg': 220, 'speed': 5.75}}\n"
     ]
    }
   ],
   "source": [
    "#run a test api call for a single city and print the json response\n",
    "testurl = \"http://api.openweathermap.org/data/2.5/weather?q=\"\n",
    "key = f\"&appid={weather_api_key}\"\n",
    "units = \"&units=imperial\"\n",
    "\n",
    "testresponse = requests.get(testurl + \"london\" + key + units).json()\n",
    "pprint(testresponse)"
   ]
  },
  {
   "cell_type": "code",
   "execution_count": 8,
   "id": "8f5bcb26-aee0-4ed1-ac1f-b507bfcd0fc9",
   "metadata": {},
   "outputs": [
    {
     "name": "stdout",
     "output_type": "stream",
     "text": [
      "Processing Record 1 for conceicao do araguaia\n",
      "Processing Record 2 for qaanaaq\n",
      "Processing Record 3 for tuktoyaktuk\n",
      "Processing Record 4 for bambous virieux\n",
      "Processing Record 5 for butaritari\n",
      "Processing Record 6 for rikitea\n",
      "Processing Record 7 for timbiqui\n",
      "Processing Record 8 for east london\n",
      "City not found. Skipping.\n",
      "Processing Record 9 for gold coast\n",
      "Processing Record 10 for shakawe\n",
      "Processing Record 11 for college\n",
      "Processing Record 12 for port elizabeth\n",
      "Processing Record 13 for vila\n",
      "Processing Record 14 for mosetse\n",
      "Processing Record 15 for gravdal\n",
      "Processing Record 16 for la ronge\n",
      "Processing Record 17 for pallasovka\n",
      "Processing Record 18 for lupiro\n",
      "Processing Record 19 for sao filipe\n",
      "Processing Record 20 for torbay\n",
      "Processing Record 21 for lebu\n",
      "Processing Record 22 for poltava\n",
      "Processing Record 23 for gejiu\n",
      "Processing Record 24 for panaba\n",
      "City not found. Skipping.\n",
      "Processing Record 25 for chuy\n",
      "Processing Record 26 for san patricio\n",
      "Processing Record 27 for synya\n",
      "Processing Record 28 for de aar\n",
      "Processing Record 29 for thompson\n",
      "Processing Record 30 for batemans bay\n",
      "Processing Record 31 for mitsamiouli\n",
      "Processing Record 32 for grand-santi\n",
      "Processing Record 33 for avarua\n",
      "Processing Record 34 for albany\n",
      "Processing Record 35 for presidencia roque saenz pena\n",
      "Processing Record 36 for camacha\n",
      "Processing Record 37 for sarh\n",
      "Processing Record 38 for huarmey\n",
      "Processing Record 39 for cape town\n",
      "City not found. Skipping.\n",
      "Processing Record 40 for sivaki\n",
      "Processing Record 41 for arraial do cabo\n",
      "Processing Record 42 for jamestown\n",
      "Processing Record 43 for bluff\n",
      "Processing Record 44 for punta arenas\n",
      "Processing Record 45 for bubaque\n",
      "Processing Record 46 for hanyang\n",
      "Processing Record 47 for ushuaia\n",
      "Processing Record 48 for kapuskasing\n",
      "Processing Record 49 for praia\n",
      "Processing Record 50 for alpena\n",
      "City not found. Skipping.\n",
      "Processing Record 51 for awbari\n",
      "Processing Record 52 for kerrobert\n",
      "Processing Record 53 for baruun-urt\n",
      "City not found. Skipping.\n",
      "Processing Record 54 for saskylakh\n",
      "Processing Record 55 for kangaatsiaq\n",
      "Processing Record 56 for juegang\n",
      "Processing Record 57 for hobart\n",
      "Processing Record 58 for okha\n",
      "Processing Record 59 for buraydah\n",
      "Processing Record 60 for turukhansk\n",
      "Processing Record 61 for yellowknife\n",
      "Processing Record 62 for atuona\n",
      "Processing Record 63 for guarapari\n",
      "Processing Record 64 for biak\n",
      "Processing Record 65 for busselton\n",
      "Processing Record 66 for salta\n",
      "Processing Record 67 for bredasdorp\n",
      "Processing Record 68 for bethel\n",
      "Processing Record 69 for chara\n",
      "Processing Record 70 for yeppoon\n",
      "City not found. Skipping.\n",
      "Processing Record 71 for tasiilaq\n",
      "Processing Record 72 for kapaa\n",
      "Processing Record 73 for porto torres\n",
      "Processing Record 74 for castro\n",
      "Processing Record 75 for ancud\n",
      "Processing Record 76 for saint-georges\n",
      "Processing Record 77 for marsh harbour\n",
      "Processing Record 78 for marawi\n",
      "Processing Record 79 for hilo\n",
      "Processing Record 80 for vallenar\n",
      "Processing Record 81 for inta\n",
      "Processing Record 82 for egvekinot\n",
      "Processing Record 83 for carangola\n",
      "Processing Record 84 for yamada\n",
      "Processing Record 85 for gberia fotombu\n",
      "City not found. Skipping.\n",
      "Processing Record 86 for espinosa\n",
      "Processing Record 87 for korla\n",
      "City not found. Skipping.\n",
      "Processing Record 88 for stornoway\n",
      "Processing Record 89 for bengkulu\n",
      "Processing Record 90 for chaoyang\n",
      "Processing Record 91 for komsomolets\n",
      "Processing Record 92 for barrow\n",
      "Processing Record 93 for deputatskiy\n",
      "Processing Record 94 for sorland\n",
      "Processing Record 95 for dharchula\n",
      "Processing Record 96 for khatanga\n",
      "Processing Record 97 for luderitz\n",
      "Processing Record 98 for upornaya\n",
      "Processing Record 99 for victoria\n",
      "Processing Record 100 for vaini\n",
      "Processing Record 101 for airai\n",
      "Processing Record 102 for cornwall\n",
      "Processing Record 103 for coahuayana\n",
      "Processing Record 104 for toppenish\n",
      "Processing Record 105 for belaya gora\n",
      "Processing Record 106 for grindavik\n",
      "Processing Record 107 for durres\n",
      "Processing Record 108 for namibe\n",
      "Processing Record 109 for carnarvon\n",
      "Processing Record 110 for lumphat\n",
      "Processing Record 111 for hermanus\n",
      "Processing Record 112 for hambantota\n",
      "Processing Record 113 for moose factory\n",
      "Processing Record 114 for ximei\n",
      "Processing Record 115 for saint george\n",
      "Processing Record 116 for cap malheureux\n",
      "Processing Record 117 for havelock\n",
      "Processing Record 118 for mataura\n",
      "Processing Record 119 for kasangulu\n",
      "Processing Record 120 for lompoc\n",
      "Processing Record 121 for ahipara\n",
      "Processing Record 122 for alindao\n",
      "Processing Record 123 for kulhudhuffushi\n",
      "Processing Record 124 for kaitangata\n",
      "Processing Record 125 for mao\n",
      "Processing Record 126 for oktyabrskiy\n",
      "Processing Record 127 for arman\n",
      "Processing Record 128 for miyako\n",
      "Processing Record 129 for vardo\n",
      "Processing Record 130 for tiksi\n",
      "Processing Record 131 for vao\n",
      "Processing Record 132 for omis\n",
      "Processing Record 133 for houma\n",
      "Processing Record 134 for dikson\n",
      "Processing Record 135 for raudeberg\n",
      "Processing Record 136 for zapolyarnyy\n",
      "Processing Record 137 for faya\n",
      "Processing Record 138 for mar del plata\n",
      "Processing Record 139 for puerto narino\n",
      "Processing Record 140 for kodiak\n",
      "Processing Record 141 for high level\n",
      "Processing Record 142 for touros\n",
      "City not found. Skipping.\n",
      "Processing Record 143 for esil\n",
      "Processing Record 144 for lata\n",
      "Processing Record 145 for hithadhoo\n",
      "Processing Record 146 for san cristobal\n",
      "Processing Record 147 for chokurdakh\n",
      "City not found. Skipping.\n",
      "Processing Record 148 for ostrovnoy\n",
      "Processing Record 149 for margate\n",
      "Processing Record 150 for puerto ayora\n",
      "Processing Record 151 for ponta do sol\n",
      "Processing Record 152 for ixtapa\n",
      "Processing Record 153 for tazovskiy\n",
      "City not found. Skipping.\n",
      "Processing Record 154 for severo-kurilsk\n",
      "Processing Record 155 for viedma\n",
      "Processing Record 156 for archidona\n",
      "Processing Record 157 for dunedin\n",
      "Processing Record 158 for broken hill\n",
      "Processing Record 159 for esmeraldas\n",
      "Processing Record 160 for takoradi\n",
      "Processing Record 161 for yako\n",
      "City not found. Skipping.\n",
      "Processing Record 162 for port alfred\n",
      "Processing Record 163 for shache\n",
      "Processing Record 164 for brigantine\n",
      "Processing Record 165 for port hedland\n",
      "Processing Record 166 for georgetown\n",
      "Processing Record 167 for zelenets\n",
      "Processing Record 168 for fez\n",
      "Processing Record 169 for aguimes\n",
      "Processing Record 170 for saint-philippe\n",
      "Processing Record 171 for coihaique\n",
      "Processing Record 172 for provideniya\n",
      "Processing Record 173 for vilyuysk\n",
      "Processing Record 174 for timmins\n",
      "Processing Record 175 for sisimiut\n",
      "Processing Record 176 for leningradskiy\n",
      "Processing Record 177 for rorvik\n",
      "City not found. Skipping.\n",
      "Processing Record 178 for macenta\n",
      "Processing Record 179 for bilibino\n",
      "Processing Record 180 for asbe teferi\n",
      "City not found. Skipping.\n",
      "Processing Record 181 for boyuibe\n",
      "Processing Record 182 for graciano sanchez\n",
      "Processing Record 183 for bousse\n",
      "Processing Record 184 for lagoa\n",
      "City not found. Skipping.\n",
      "Processing Record 185 for vikhorevka\n",
      "Processing Record 186 for esperance\n",
      "Processing Record 187 for olinda\n",
      "Processing Record 188 for san pedro\n",
      "Processing Record 189 for okhotsk\n",
      "Processing Record 190 for hamilton\n",
      "Processing Record 191 for orlik\n",
      "Processing Record 192 for sitrah\n",
      "Processing Record 193 for cherskiy\n",
      "Processing Record 194 for goderich\n",
      "Processing Record 195 for manacapuru\n",
      "Processing Record 196 for acapulco\n",
      "Processing Record 197 for kampot\n",
      "Processing Record 198 for new norfolk\n",
      "Processing Record 199 for kalmunai\n",
      "Processing Record 200 for bathsheba\n",
      "Processing Record 201 for general pico\n",
      "Processing Record 202 for labuhan\n",
      "City not found. Skipping.\n",
      "Processing Record 203 for pundaguitan\n",
      "Processing Record 204 for viamao\n",
      "Processing Record 205 for zelenokumsk\n",
      "Processing Record 206 for ust-tsilma\n",
      "Processing Record 207 for krizevci\n",
      "Processing Record 208 for waingapu\n",
      "Processing Record 209 for srednekolymsk\n",
      "Processing Record 210 for kraskino\n",
      "Processing Record 211 for saint-augustin\n",
      "Processing Record 212 for norman wells\n",
      "Processing Record 213 for tura\n",
      "Processing Record 214 for mount gambier\n",
      "Processing Record 215 for meadow lake\n",
      "Processing Record 216 for naze\n",
      "Processing Record 217 for kudahuvadhoo\n",
      "Processing Record 218 for zhuhai\n",
      "Processing Record 219 for yoichi\n",
      "City not found. Skipping.\n",
      "Processing Record 220 for nemuro\n",
      "Processing Record 221 for san quintin\n",
      "Processing Record 222 for manzhouli\n",
      "Processing Record 223 for gorontalo\n",
      "Processing Record 224 for souillac\n",
      "Processing Record 225 for boralday\n",
      "Processing Record 226 for longyearbyen\n",
      "Processing Record 227 for opuwo\n",
      "Processing Record 228 for singkang\n",
      "Processing Record 229 for saldanha\n",
      "Processing Record 230 for kihei\n",
      "Processing Record 231 for pevek\n",
      "City not found. Skipping.\n",
      "Processing Record 232 for plouzane\n",
      "Processing Record 233 for hualmay\n",
      "Processing Record 234 for ojinaga\n",
      "Processing Record 235 for fortuna\n",
      "Processing Record 236 for cockburn town\n",
      "City not found. Skipping.\n",
      "Processing Record 237 for san joaquin\n",
      "Processing Record 238 for nyangao\n",
      "Processing Record 239 for ambunti\n",
      "Processing Record 240 for port blair\n",
      "Processing Record 241 for zonguldak\n",
      "City not found. Skipping.\n",
      "Processing Record 242 for nyagan\n",
      "Processing Record 243 for lima\n",
      "Processing Record 244 for tadine\n",
      "Processing Record 245 for kumba\n",
      "City not found. Skipping.\n",
      "Processing Record 246 for pau dos ferros\n",
      "Processing Record 247 for pavino\n",
      "Processing Record 248 for autun\n",
      "Processing Record 249 for karratha\n",
      "Processing Record 250 for palmer\n",
      "Processing Record 251 for oksfjord\n",
      "Processing Record 252 for severnyy\n",
      "Processing Record 253 for klyuchi\n",
      "Processing Record 254 for port-gentil\n",
      "Processing Record 255 for jutai\n",
      "Processing Record 256 for sioux lookout\n",
      "Processing Record 257 for yima\n",
      "Processing Record 258 for poso\n",
      "Processing Record 259 for kropotkin\n",
      "Processing Record 260 for iqaluit\n",
      "Processing Record 261 for vestmannaeyjar\n",
      "Processing Record 262 for baculin\n",
      "Processing Record 263 for maniitsoq\n",
      "Processing Record 264 for tortoli\n",
      "Processing Record 265 for dhandhuka\n",
      "Processing Record 266 for umea\n",
      "Processing Record 267 for quelimane\n",
      "Processing Record 268 for preobrazheniye\n",
      "Processing Record 269 for linxia\n",
      "City not found. Skipping.\n",
      "Processing Record 270 for uyuni\n",
      "Processing Record 271 for salalah\n",
      "Processing Record 272 for usinsk\n",
      "Processing Record 273 for markova\n",
      "Processing Record 274 for agucadoura\n",
      "Processing Record 275 for kavaratti\n",
      "Processing Record 276 for vernon\n",
      "Processing Record 277 for kruisfontein\n",
      "Processing Record 278 for faanui\n",
      "Processing Record 279 for byron bay\n",
      "Processing Record 280 for gazli\n",
      "Processing Record 281 for krasnoselkup\n",
      "City not found. Skipping.\n",
      "Processing Record 282 for sosnovo-ozerskoye\n",
      "Processing Record 283 for fairbanks\n",
      "Processing Record 284 for lucapa\n",
      "Processing Record 285 for porto murtinho\n",
      "Processing Record 286 for dongsheng\n",
      "Processing Record 287 for sitka\n",
      "Processing Record 288 for bud\n",
      "City not found. Skipping.\n",
      "Processing Record 289 for langsa\n",
      "Processing Record 290 for nikolskoye\n",
      "Processing Record 291 for constitucion\n",
      "City not found. Skipping.\n",
      "Processing Record 292 for ballina\n",
      "Processing Record 293 for rawson\n",
      "Processing Record 294 for talara\n",
      "City not found. Skipping.\n",
      "City not found. Skipping.\n",
      "Processing Record 295 for pacific grove\n",
      "Processing Record 296 for itoman\n",
      "Processing Record 297 for berezanka\n",
      "Processing Record 298 for belluno\n",
      "Processing Record 299 for grahamstown\n",
      "Processing Record 300 for narsaq\n",
      "Processing Record 301 for aykhal\n",
      "Processing Record 302 for chapais\n",
      "Processing Record 303 for mahebourg\n",
      "Processing Record 304 for shitanjing\n",
      "Processing Record 305 for rapla\n",
      "Processing Record 306 for baiquan\n",
      "Processing Record 307 for ipatovo\n",
      "Processing Record 308 for upernavik\n",
      "Processing Record 309 for alofi\n",
      "Processing Record 310 for rakaia\n",
      "Processing Record 311 for nanortalik\n",
      "Processing Record 312 for walvis bay\n",
      "Processing Record 313 for kenai\n",
      "Processing Record 314 for issaquah\n",
      "Processing Record 315 for richards bay\n",
      "Processing Record 316 for hami\n",
      "Processing Record 317 for cambridge\n",
      "Processing Record 318 for bundaberg\n",
      "Processing Record 319 for taiobeiras\n",
      "Processing Record 320 for dalby\n",
      "City not found. Skipping.\n",
      "Processing Record 321 for mabaruma\n",
      "Processing Record 322 for los llanos de aridane\n",
      "Processing Record 323 for nome\n",
      "Processing Record 324 for tshikapa\n",
      "Processing Record 325 for calatrava\n",
      "Processing Record 326 for kavieng\n",
      "Processing Record 327 for komsomolskiy\n",
      "Processing Record 328 for sar-e pul\n",
      "Processing Record 329 for hovd\n",
      "Processing Record 330 for saint albans\n",
      "Processing Record 331 for poya\n",
      "Processing Record 332 for amuntai\n",
      "Processing Record 333 for freeport\n",
      "Processing Record 334 for te anau\n",
      "Processing Record 335 for lavrentiya\n",
      "Processing Record 336 for constantine\n",
      "Processing Record 337 for juneau\n",
      "Processing Record 338 for kyshtovka\n",
      "City not found. Skipping.\n",
      "Processing Record 339 for la asuncion\n",
      "City not found. Skipping.\n",
      "Processing Record 340 for mangrol\n",
      "City not found. Skipping.\n",
      "Processing Record 341 for chadiza\n",
      "Processing Record 342 for boa vista\n",
      "Processing Record 343 for torit\n",
      "Processing Record 344 for black river\n",
      "Processing Record 345 for nuuk\n",
      "Processing Record 346 for quatre cocos\n",
      "Processing Record 347 for ippy\n",
      "Processing Record 348 for honiara\n",
      "Processing Record 349 for manjakandriana\n",
      "Processing Record 350 for dudinka\n",
      "Processing Record 351 for amalner\n",
      "Processing Record 352 for erenhot\n",
      "City not found. Skipping.\n",
      "City not found. Skipping.\n",
      "Processing Record 353 for marzuq\n",
      "Processing Record 354 for puerto escondido\n",
      "Processing Record 355 for nizwa\n",
      "Processing Record 356 for yar-sale\n",
      "Processing Record 357 for guerrero negro\n",
      "Processing Record 358 for clyde river\n",
      "Processing Record 359 for sao jose da coroa grande\n",
      "Processing Record 360 for santa cruz de tenerife\n",
      "Processing Record 361 for ulan-ude\n",
      "Processing Record 362 for nantucket\n",
      "Processing Record 363 for luanda\n",
      "Processing Record 364 for badou\n",
      "Processing Record 365 for akranes\n",
      "Processing Record 366 for talnakh\n",
      "City not found. Skipping.\n",
      "Processing Record 367 for tyulgan\n",
      "Processing Record 368 for maua\n",
      "Processing Record 369 for taoudenni\n",
      "Processing Record 370 for valledupar\n",
      "Processing Record 371 for campbellton\n",
      "Processing Record 372 for beroroha\n",
      "Processing Record 373 for zuya\n",
      "Processing Record 374 for vanimo\n",
      "Processing Record 375 for aripuana\n",
      "Processing Record 376 for ust-nera\n",
      "Processing Record 377 for sault sainte marie\n",
      "Processing Record 378 for ifakara\n",
      "Processing Record 379 for boyolangu\n",
      "Processing Record 380 for awjilah\n",
      "Processing Record 381 for beringovskiy\n",
      "Processing Record 382 for rantepao\n",
      "Processing Record 383 for roma\n",
      "Processing Record 384 for kaohsiung\n",
      "Processing Record 385 for camacari\n",
      "Processing Record 386 for skibbereen\n",
      "Processing Record 387 for road town\n",
      "Processing Record 388 for san jeronimo\n",
      "Processing Record 389 for tougan\n",
      "City not found. Skipping.\n",
      "Processing Record 390 for kaman\n",
      "City not found. Skipping.\n",
      "Processing Record 391 for aklavik\n",
      "Processing Record 392 for geraldton\n",
      "Processing Record 393 for fremont\n",
      "Processing Record 394 for mayumba\n",
      "Processing Record 395 for alugan\n",
      "Processing Record 396 for poum\n",
      "Processing Record 397 for morondava\n",
      "Processing Record 398 for rincon\n",
      "Processing Record 399 for pozhva\n",
      "Processing Record 400 for villazon\n",
      "Processing Record 401 for beloha\n",
      "Processing Record 402 for vetluga\n",
      "Processing Record 403 for lloydminster\n",
      "City not found. Skipping.\n",
      "City not found. Skipping.\n",
      "Processing Record 404 for santo antonio do ica\n",
      "Processing Record 405 for lazaro cardenas\n",
      "Processing Record 406 for vermilion\n",
      "Processing Record 407 for ambanja\n",
      "Processing Record 408 for labuan\n",
      "Processing Record 409 for repatriacion\n",
      "Processing Record 410 for taksimo\n",
      "Processing Record 411 for laguna\n",
      "City not found. Skipping.\n",
      "Processing Record 412 for imbituba\n",
      "Processing Record 413 for tacuati\n",
      "Processing Record 414 for bosanski novi\n",
      "Processing Record 415 for honningsvag\n",
      "Processing Record 416 for necochea\n",
      "Processing Record 417 for broome\n",
      "Processing Record 418 for jumla\n",
      "Processing Record 419 for cayenne\n",
      "Processing Record 420 for maloy\n",
      "Processing Record 421 for bristol\n",
      "City not found. Skipping.\n",
      "Processing Record 422 for jining\n",
      "Processing Record 423 for henderson\n",
      "Processing Record 424 for codrington\n",
      "Processing Record 425 for tilichiki\n",
      "Processing Record 426 for oyem\n",
      "Processing Record 427 for peterhead\n",
      "City not found. Skipping.\n",
      "Processing Record 428 for mangai\n",
      "Processing Record 429 for araouane\n",
      "Processing Record 430 for shelburne\n",
      "Processing Record 431 for venado tuerto\n",
      "Processing Record 432 for boueni\n",
      "Processing Record 433 for cabo san lucas\n",
      "Processing Record 434 for wagar\n",
      "Processing Record 435 for moanda\n",
      "Processing Record 436 for houston\n",
      "City not found. Skipping.\n",
      "Processing Record 437 for batagay-alyta\n",
      "Processing Record 438 for dunmore town\n",
      "City not found. Skipping.\n",
      "Processing Record 439 for gibara\n",
      "Processing Record 440 for cairns\n",
      "Processing Record 441 for barinas\n",
      "Processing Record 442 for yarumal\n",
      "Processing Record 443 for conde\n",
      "Processing Record 444 for west bay\n",
      "Processing Record 445 for sola\n",
      "Processing Record 446 for ulagan\n",
      "Processing Record 447 for hofn\n",
      "Processing Record 448 for satipo\n",
      "Processing Record 449 for koutsouras\n",
      "Processing Record 450 for rapid city\n",
      "Processing Record 451 for dmytrivka\n",
      "Processing Record 452 for flinders\n",
      "City not found. Skipping.\n",
      "Processing Record 453 for zhanaozen\n",
      "Processing Record 454 for luau\n",
      "City not found. Skipping.\n",
      "Processing Record 455 for fare\n",
      "Processing Record 456 for hirara\n",
      "Processing Record 457 for usak\n",
      "Processing Record 458 for lumeje\n",
      "Processing Record 459 for kremenchuk\n",
      "Processing Record 460 for kamyshevatskaya\n",
      "Processing Record 461 for ilulissat\n",
      "Processing Record 462 for kitzbuhel\n",
      "Processing Record 463 for brownwood\n",
      "Processing Record 464 for khasan\n",
      "Processing Record 465 for namatanai\n",
      "Processing Record 466 for portland\n",
      "Processing Record 467 for ivaipora\n",
      "Processing Record 468 for kaitong\n",
      "Processing Record 469 for campbell river\n",
      "Processing Record 470 for kloulklubed\n",
      "Processing Record 471 for pangnirtung\n",
      "Processing Record 472 for gali\n",
      "Processing Record 473 for nyamuswa\n",
      "City not found. Skipping.\n",
      "Processing Record 474 for rastede\n",
      "Processing Record 475 for magistralnyy\n",
      "Processing Record 476 for pisco\n",
      "Processing Record 477 for umm kaddadah\n",
      "Processing Record 478 for qualiano\n",
      "City not found. Skipping.\n",
      "Processing Record 479 for half moon bay\n",
      "Processing Record 480 for lodja\n",
      "Processing Record 481 for yasnogorsk\n",
      "Processing Record 482 for gerash\n",
      "Processing Record 483 for ampanihy\n",
      "Processing Record 484 for onguday\n",
      "Processing Record 485 for traverse city\n",
      "Processing Record 486 for husavik\n",
      "Processing Record 487 for ketchikan\n",
      "Processing Record 488 for dingle\n",
      "Processing Record 489 for zhigansk\n",
      "Processing Record 490 for cidreira\n",
      "Processing Record 491 for lorengau\n",
      "Processing Record 492 for morro bay\n",
      "Processing Record 493 for tessalit\n",
      "Processing Record 494 for terrace bay\n",
      "Processing Record 495 for wanning\n",
      "Processing Record 496 for wuhu\n",
      "Processing Record 497 for yazoo city\n",
      "Processing Record 498 for guanica\n",
      "Processing Record 499 for fukue\n",
      "Processing Record 500 for bonthe\n",
      "Processing Record 501 for tucuman\n",
      "Processing Record 502 for sebnitz\n",
      "Processing Record 503 for mikhaylovka\n",
      "Processing Record 504 for huambo\n",
      "Processing Record 505 for bafoulabe\n",
      "Processing Record 506 for sao francisco do sul\n",
      "Processing Record 507 for kahului\n",
      "Processing Record 508 for champerico\n",
      "Processing Record 509 for san andres\n",
      "Processing Record 510 for santa cruz de la palma\n",
      "Processing Record 511 for derzhavinsk\n",
      "Processing Record 512 for matay\n",
      "Processing Record 513 for meulaboh\n",
      "Processing Record 514 for inhambane\n",
      "Processing Record 515 for kitakata\n",
      "City not found. Skipping.\n",
      "Processing Record 516 for hasaki\n",
      "Processing Record 517 for henties bay\n",
      "Processing Record 518 for arandis\n",
      "Processing Record 519 for ust-kalmanka\n",
      "Processing Record 520 for methoni\n",
      "Processing Record 521 for nisia floresta\n",
      "City not found. Skipping.\n",
      "Processing Record 522 for charlestown\n",
      "Processing Record 523 for mitu\n",
      "Processing Record 524 for piet retief\n",
      "Processing Record 525 for altay\n",
      "City not found. Skipping.\n",
      "Processing Record 526 for kidodi\n",
      "Processing Record 527 for kharp\n",
      "Processing Record 528 for sampit\n",
      "Processing Record 529 for barcelos\n",
      "Processing Record 530 for luziania\n",
      "Processing Record 531 for yaan\n",
      "Processing Record 532 for akyab\n",
      "Processing Record 533 for anaconda\n",
      "Processing Record 534 for arlit\n",
      "Processing Record 535 for novobeysugskaya\n",
      "Processing Record 536 for oistins\n",
      "City not found. Skipping.\n",
      "Processing Record 537 for nouadhibou\n",
      "Processing Record 538 for rio gallegos\n",
      "Processing Record 539 for alta floresta\n",
      "Processing Record 540 for breyten\n",
      "Processing Record 541 for brae\n",
      "Processing Record 542 for berlevag\n",
      "Processing Record 543 for phonhong\n",
      "Processing Record 544 for havre-saint-pierre\n",
      "Processing Record 545 for ciudad bolivar\n",
      "Processing Record 546 for ambulu\n",
      "City not found. Skipping.\n",
      "Processing Record 547 for jaciara\n",
      "Processing Record 548 for muros\n",
      "Processing Record 549 for naifaru\n",
      "Processing Record 550 for kirksville\n",
      "Processing Record 551 for mizdah\n",
      "Processing Record 552 for tanout\n",
      "Processing Record 553 for port lincoln\n",
      "Processing Record 554 for esna\n",
      "Processing Record 555 for kushikino\n",
      "Processing Record 556 for gamba\n",
      "Processing Record 557 for benguela\n",
      "Processing Record 558 for emerald\n",
      "Processing Record 559 for jasmine estates\n",
      "Processing Record 560 for musoma\n",
      "Processing Record 561 for emba\n",
      "Processing Record 562 for ossora\n",
      "Processing Record 563 for shahr-e babak\n",
      "Processing Record 564 for corrales\n",
      "Processing Record 565 for atbasar\n",
      "Processing Record 566 for kamenka\n",
      "Processing Record 567 for lang suan\n",
      "Processing Record 568 for albesti-paleologu\n",
      "Processing Record 569 for forssa\n",
      "Processing Record 570 for devonport\n",
      "Processing Record 571 for narimanov\n",
      "Processing Record 572 for xai-xai\n",
      "Processing Record 573 for irbeyskoye\n",
      "Processing Record 574 for grand gaube\n",
      "Processing Record 575 for morgan city\n",
      "Processing Record 576 for talcahuano\n",
      "Processing Record 577 for behat\n",
      "Processing Record 578 for caxito\n",
      "Processing Record 579 for atasu\n",
      "Processing Record 580 for encruzilhada\n",
      "Processing Record 581 for pandamatenga\n",
      "Processing Record 582 for cozumel\n",
      "Processing Record 583 for merauke\n",
      "Processing Record 584 for isangel\n",
      "Processing Record 585 for sambava\n",
      "Processing Record 586 for tocopilla\n",
      "Processing Record 587 for ternate\n",
      "Processing Record 588 for chicama\n",
      "Processing Record 589 for mayor pablo lagerenza\n",
      "Processing Record 590 for etampes\n",
      "Processing Record 591 for mareeba\n",
      "Processing Record 592 for tayturka\n",
      "Processing Record 593 for ken caryl\n",
      "Processing Record 594 for williams lake\n"
     ]
    }
   ],
   "source": [
    "cities_url = \"http://api.openweathermap.org/data/2.5/weather?q=\"\n",
    "key = f\"&appid={weather_api_key}\"\n",
    "units = \"&units=imperial\"\n",
    "\n",
    "City = []\n",
    "Lat = []\n",
    "Lng = []\n",
    "Max_Temp = []\n",
    "Humidity = []\n",
    "Cloudiness = []\n",
    "Wind_Speed = []\n",
    "Country = []\n",
    "Date = []\n",
    "\n",
    "city_count = 0\n",
    "\n",
    "for city in cities:\n",
    "    try:\n",
    "        wresponse = requests.get(cities_url + city + key + units).json()\n",
    "        City.append(wresponse['name'])\n",
    "        Lat.append(wresponse['coord']['lat'])\n",
    "        Lng.append(wresponse['coord']['lon'])\n",
    "        Max_Temp.append(wresponse['main']['temp_max'])\n",
    "        Humidity.append(wresponse['main']['humidity'])\n",
    "        Cloudiness.append(wresponse['clouds']['all'])\n",
    "        Wind_Speed.append(wresponse['wind']['speed'])\n",
    "        Country.append(wresponse['sys']['country'])\n",
    "        Date.append(wresponse['dt'])\n",
    "        city_count +=1\n",
    "        print(f\"Processing Record {city_count} for {city}\")\n",
    "    except:\n",
    "        print(\"City not found. Skipping.\")"
   ]
  },
  {
   "cell_type": "code",
   "execution_count": 9,
   "id": "9abd92d8-657d-4ce8-86e3-560cd1ae6312",
   "metadata": {},
   "outputs": [
    {
     "data": {
      "text/plain": [
       "594"
      ]
     },
     "execution_count": 9,
     "metadata": {},
     "output_type": "execute_result"
    }
   ],
   "source": [
    "# confirm appropriate number of records collects\n",
    "len(City)"
   ]
  },
  {
   "cell_type": "code",
   "execution_count": 10,
   "id": "e61ef494-739d-45cc-b848-871324061884",
   "metadata": {},
   "outputs": [
    {
     "data": {
      "text/html": [
       "<div>\n",
       "<style scoped>\n",
       "    .dataframe tbody tr th:only-of-type {\n",
       "        vertical-align: middle;\n",
       "    }\n",
       "\n",
       "    .dataframe tbody tr th {\n",
       "        vertical-align: top;\n",
       "    }\n",
       "\n",
       "    .dataframe thead th {\n",
       "        text-align: right;\n",
       "    }\n",
       "</style>\n",
       "<table border=\"1\" class=\"dataframe\">\n",
       "  <thead>\n",
       "    <tr style=\"text-align: right;\">\n",
       "      <th></th>\n",
       "      <th>City</th>\n",
       "      <th>Lat</th>\n",
       "      <th>Lng</th>\n",
       "      <th>Max Temp</th>\n",
       "      <th>Humidity</th>\n",
       "      <th>Cloudiness</th>\n",
       "      <th>Wind Speed</th>\n",
       "      <th>Country</th>\n",
       "      <th>Date</th>\n",
       "    </tr>\n",
       "  </thead>\n",
       "  <tbody>\n",
       "    <tr>\n",
       "      <th>0</th>\n",
       "      <td>Conceição do Araguaia</td>\n",
       "      <td>-8.2578</td>\n",
       "      <td>-49.2647</td>\n",
       "      <td>82.35</td>\n",
       "      <td>32</td>\n",
       "      <td>48</td>\n",
       "      <td>2.39</td>\n",
       "      <td>BR</td>\n",
       "      <td>1627337423</td>\n",
       "    </tr>\n",
       "    <tr>\n",
       "      <th>1</th>\n",
       "      <td>Qaanaaq</td>\n",
       "      <td>77.4840</td>\n",
       "      <td>-69.3632</td>\n",
       "      <td>42.04</td>\n",
       "      <td>71</td>\n",
       "      <td>100</td>\n",
       "      <td>7.61</td>\n",
       "      <td>GL</td>\n",
       "      <td>1627337379</td>\n",
       "    </tr>\n",
       "    <tr>\n",
       "      <th>2</th>\n",
       "      <td>Tuktoyaktuk</td>\n",
       "      <td>69.4541</td>\n",
       "      <td>-133.0374</td>\n",
       "      <td>46.60</td>\n",
       "      <td>76</td>\n",
       "      <td>94</td>\n",
       "      <td>7.47</td>\n",
       "      <td>CA</td>\n",
       "      <td>1627337424</td>\n",
       "    </tr>\n",
       "    <tr>\n",
       "      <th>3</th>\n",
       "      <td>Bambous Virieux</td>\n",
       "      <td>-20.3428</td>\n",
       "      <td>57.7575</td>\n",
       "      <td>66.22</td>\n",
       "      <td>77</td>\n",
       "      <td>77</td>\n",
       "      <td>14.47</td>\n",
       "      <td>MU</td>\n",
       "      <td>1627337424</td>\n",
       "    </tr>\n",
       "    <tr>\n",
       "      <th>4</th>\n",
       "      <td>Butaritari</td>\n",
       "      <td>3.0707</td>\n",
       "      <td>172.7902</td>\n",
       "      <td>82.45</td>\n",
       "      <td>74</td>\n",
       "      <td>93</td>\n",
       "      <td>6.96</td>\n",
       "      <td>KI</td>\n",
       "      <td>1627337424</td>\n",
       "    </tr>\n",
       "  </tbody>\n",
       "</table>\n",
       "</div>"
      ],
      "text/plain": [
       "                    City      Lat       Lng  Max Temp  Humidity  Cloudiness  \\\n",
       "0  Conceição do Araguaia  -8.2578  -49.2647     82.35        32          48   \n",
       "1                Qaanaaq  77.4840  -69.3632     42.04        71         100   \n",
       "2            Tuktoyaktuk  69.4541 -133.0374     46.60        76          94   \n",
       "3        Bambous Virieux -20.3428   57.7575     66.22        77          77   \n",
       "4             Butaritari   3.0707  172.7902     82.45        74          93   \n",
       "\n",
       "   Wind Speed Country        Date  \n",
       "0        2.39      BR  1627337423  \n",
       "1        7.61      GL  1627337379  \n",
       "2        7.47      CA  1627337424  \n",
       "3       14.47      MU  1627337424  \n",
       "4        6.96      KI  1627337424  "
      ]
     },
     "execution_count": 10,
     "metadata": {},
     "output_type": "execute_result"
    }
   ],
   "source": [
    "#create a dataframe from the collected data\n",
    "\n",
    "weather_df = pd.DataFrame({\"City\":City, \"Lat\":Lat,\"Lng\":Lng, \"Max Temp\":Max_Temp,\n",
    "                           \"Humidity\":Humidity, \"Cloudiness\":Cloudiness, \"Wind Speed\":Wind_Speed,\n",
    "                           \"Country\" : Country, \"Date\": Date})\n",
    "weather_df.head()"
   ]
  },
  {
   "cell_type": "code",
   "execution_count": 11,
   "id": "46c22ba5-488f-4ed6-b282-04bafd5428a4",
   "metadata": {},
   "outputs": [],
   "source": [
    "# write the data to a csv file and store it in the output folder\n",
    "weather_csv = weather_df.copy()\n",
    "\n",
    "weather_csv.to_csv(r'../output_data/cities.csv')"
   ]
  },
  {
   "cell_type": "code",
   "execution_count": 13,
   "id": "8d26aec4-da52-48fe-a541-3adcd57d976e",
   "metadata": {},
   "outputs": [
    {
     "data": {
      "image/png": "[encoded data removed]",
      "text/plain": [
       "<Figure size 432x288 with 1 Axes>"
      ]
     },
     "metadata": {
      "needs_background": "light"
     },
     "output_type": "display_data"
    }
   ],
   "source": [
    "#create a scatter plot of latitude vs temperature\n",
    "\n",
    "plt.scatter(weather_df[\"Lat\"],weather_df[\"Max Temp\"])\n",
    "\n",
    "plt.title(\"City Latitude vs Max Temperature (07/26/20)\")\n",
    "plt.xlabel(\"Latitude\")\n",
    "plt.ylabel(\"Max Temperature (F)\")\n",
    "plt.savefig('lat_vs_temp.png')\n",
    "plt.show()"
   ]
  },
  {
   "cell_type": "code",
   "execution_count": 30,
   "id": "a995c852-e8f1-4630-9e7d-5f20dcacc75e",
   "metadata": {},
   "outputs": [],
   "source": [
    "# The above scatter plot show the relationship between a city's latitude and its max temperature on 07/26/21.\n",
    "# As can be seen, latitudes further from zero tend to have lower max temperatures on this date."
   ]
  },
  {
   "cell_type": "code",
   "execution_count": 14,
   "id": "9680f794-385f-45dd-bb08-f5585dc6ad98",
   "metadata": {},
   "outputs": [
    {
     "data": {
      "image/png": "[encoded data removed]",
      "text/plain": [
       "<Figure size 432x288 with 1 Axes>"
      ]
     },
     "metadata": {
      "needs_background": "light"
     },
     "output_type": "display_data"
    }
   ],
   "source": [
    "# create a scatter plot of latitude vs humidity\n",
    "plt.scatter(weather_df[\"Lat\"],weather_df[\"Humidity\"])\n",
    "\n",
    "plt.title(\"City Latitude vs Humidity (07/26/20)\")\n",
    "plt.xlabel(\"Latitude\")\n",
    "plt.ylabel(\"Humidity (%)\")\n",
    "plt.savefig('lat_vs_humidity.png')\n",
    "plt.show()"
   ]
  },
  {
   "cell_type": "code",
   "execution_count": 15,
   "id": "2248a24a-c50f-4c0a-8958-986c5d800560",
   "metadata": {},
   "outputs": [],
   "source": [
    "# The above scatter plot shows the relationship between a city's latitude and its humidity on 07/26/21\n",
    "# There appears to be no significant correlation between the two on this date.\n"
   ]
  },
  {
   "cell_type": "code",
   "execution_count": 16,
   "id": "f19179b0-9b8c-45b9-9329-e4fbd4b98dd8",
   "metadata": {},
   "outputs": [
    {
     "data": {
      "image/png": "[encoded data removed]",
      "text/plain": [
       "<Figure size 432x288 with 1 Axes>"
      ]
     },
     "metadata": {
      "needs_background": "light"
     },
     "output_type": "display_data"
    }
   ],
   "source": [
    "#create a scatter plot of latitude vs cloudiness\n",
    "\n",
    "plt.scatter(weather_df[\"Lat\"],weather_df[\"Cloudiness\"])\n",
    "\n",
    "plt.title(\"City Latitude vs Cloudiness (07/26/20)\")\n",
    "plt.xlabel(\"Latitude\")\n",
    "plt.ylabel(\"Cloudiness (%)\")\n",
    "plt.savefig('lat_vs_cloudiness.png')\n",
    "plt.show()"
   ]
  },
  {
   "cell_type": "code",
   "execution_count": 17,
   "id": "bafc50d6-77c5-4614-9544-d2a0437c8368",
   "metadata": {},
   "outputs": [],
   "source": [
    "# The above scatter plot show the relationship between a city's latitude and its humidity on 07/26/21\n",
    "# There does not appear to be a significant correlation, howevever the data seems to fall more at high or low degrees of cloudiness\n",
    "# than at more moderate degrees of cloudiness"
   ]
  },
  {
   "cell_type": "code",
   "execution_count": 18,
   "id": "1500a269-f199-4747-ac51-5221abccdeb6",
   "metadata": {},
   "outputs": [
    {
     "data": {
      "image/png": "[encoded data removed]",
      "text/plain": [
       "<Figure size 432x288 with 1 Axes>"
      ]
     },
     "metadata": {
      "needs_background": "light"
     },
     "output_type": "display_data"
    }
   ],
   "source": [
    "#create a scatter plot of latitude vs wind speed\n",
    "\n",
    "plt.scatter(weather_df[\"Lat\"],weather_df[\"Wind Speed\"])\n",
    "\n",
    "plt.title(\"City Latitude vs Wind Speed (07/26/20)\")\n",
    "plt.xlabel(\"Latitude\")\n",
    "plt.ylabel(\"Wind Speed (mph)\")\n",
    "plt.savefig('lat_vs_wind.png')\n",
    "plt.show()"
   ]
  },
  {
   "cell_type": "code",
   "execution_count": 19,
   "id": "1ff81623-6fcc-4057-b76b-fbe2cdd38d22",
   "metadata": {},
   "outputs": [],
   "source": [
    "# The above scatter plot show the relationship between a city's latitude and its wind speed on 07/26/21\n",
    "# There does not appear to be a particularly significant correlation between the two on this date"
   ]
  },
  {
   "cell_type": "code",
   "execution_count": 20,
   "id": "49a8a49d-06b3-4b80-b56c-7e5121f4db83",
   "metadata": {},
   "outputs": [
    {
     "data": {
      "text/html": [
       "<div>\n",
       "<style scoped>\n",
       "    .dataframe tbody tr th:only-of-type {\n",
       "        vertical-align: middle;\n",
       "    }\n",
       "\n",
       "    .dataframe tbody tr th {\n",
       "        vertical-align: top;\n",
       "    }\n",
       "\n",
       "    .dataframe thead th {\n",
       "        text-align: right;\n",
       "    }\n",
       "</style>\n",
       "<table border=\"1\" class=\"dataframe\">\n",
       "  <thead>\n",
       "    <tr style=\"text-align: right;\">\n",
       "      <th></th>\n",
       "      <th>City</th>\n",
       "      <th>Lat</th>\n",
       "      <th>Lng</th>\n",
       "      <th>Max Temp</th>\n",
       "      <th>Humidity</th>\n",
       "      <th>Cloudiness</th>\n",
       "      <th>Wind Speed</th>\n",
       "      <th>Country</th>\n",
       "      <th>Date</th>\n",
       "    </tr>\n",
       "  </thead>\n",
       "  <tbody>\n",
       "    <tr>\n",
       "      <th>0</th>\n",
       "      <td>Conceição do Araguaia</td>\n",
       "      <td>-8.2578</td>\n",
       "      <td>-49.2647</td>\n",
       "      <td>82.35</td>\n",
       "      <td>32</td>\n",
       "      <td>48</td>\n",
       "      <td>2.39</td>\n",
       "      <td>BR</td>\n",
       "      <td>1627337423</td>\n",
       "    </tr>\n",
       "    <tr>\n",
       "      <th>3</th>\n",
       "      <td>Bambous Virieux</td>\n",
       "      <td>-20.3428</td>\n",
       "      <td>57.7575</td>\n",
       "      <td>66.22</td>\n",
       "      <td>77</td>\n",
       "      <td>77</td>\n",
       "      <td>14.47</td>\n",
       "      <td>MU</td>\n",
       "      <td>1627337424</td>\n",
       "    </tr>\n",
       "    <tr>\n",
       "      <th>5</th>\n",
       "      <td>Rikitea</td>\n",
       "      <td>-23.1203</td>\n",
       "      <td>-134.9692</td>\n",
       "      <td>74.08</td>\n",
       "      <td>77</td>\n",
       "      <td>89</td>\n",
       "      <td>18.45</td>\n",
       "      <td>PF</td>\n",
       "      <td>1627337425</td>\n",
       "    </tr>\n",
       "    <tr>\n",
       "      <th>7</th>\n",
       "      <td>East London</td>\n",
       "      <td>-33.0153</td>\n",
       "      <td>27.9116</td>\n",
       "      <td>64.90</td>\n",
       "      <td>25</td>\n",
       "      <td>100</td>\n",
       "      <td>11.39</td>\n",
       "      <td>ZA</td>\n",
       "      <td>1627337425</td>\n",
       "    </tr>\n",
       "    <tr>\n",
       "      <th>8</th>\n",
       "      <td>Gold Coast</td>\n",
       "      <td>-28.0000</td>\n",
       "      <td>153.4333</td>\n",
       "      <td>55.20</td>\n",
       "      <td>82</td>\n",
       "      <td>0</td>\n",
       "      <td>0.00</td>\n",
       "      <td>AU</td>\n",
       "      <td>1627337426</td>\n",
       "    </tr>\n",
       "    <tr>\n",
       "      <th>...</th>\n",
       "      <td>...</td>\n",
       "      <td>...</td>\n",
       "      <td>...</td>\n",
       "      <td>...</td>\n",
       "      <td>...</td>\n",
       "      <td>...</td>\n",
       "      <td>...</td>\n",
       "      <td>...</td>\n",
       "      <td>...</td>\n",
       "    </tr>\n",
       "    <tr>\n",
       "      <th>584</th>\n",
       "      <td>Sambava</td>\n",
       "      <td>-14.2667</td>\n",
       "      <td>50.1667</td>\n",
       "      <td>69.91</td>\n",
       "      <td>79</td>\n",
       "      <td>95</td>\n",
       "      <td>13.49</td>\n",
       "      <td>MG</td>\n",
       "      <td>1627337558</td>\n",
       "    </tr>\n",
       "    <tr>\n",
       "      <th>585</th>\n",
       "      <td>Tocopilla</td>\n",
       "      <td>-22.0920</td>\n",
       "      <td>-70.1979</td>\n",
       "      <td>61.72</td>\n",
       "      <td>77</td>\n",
       "      <td>19</td>\n",
       "      <td>13.00</td>\n",
       "      <td>CL</td>\n",
       "      <td>1627337527</td>\n",
       "    </tr>\n",
       "    <tr>\n",
       "      <th>587</th>\n",
       "      <td>Chicama</td>\n",
       "      <td>-7.8447</td>\n",
       "      <td>-79.1469</td>\n",
       "      <td>66.74</td>\n",
       "      <td>70</td>\n",
       "      <td>21</td>\n",
       "      <td>9.82</td>\n",
       "      <td>PE</td>\n",
       "      <td>1627337558</td>\n",
       "    </tr>\n",
       "    <tr>\n",
       "      <th>588</th>\n",
       "      <td>Mayor Pablo Lagerenza</td>\n",
       "      <td>-19.9309</td>\n",
       "      <td>-60.7718</td>\n",
       "      <td>87.19</td>\n",
       "      <td>26</td>\n",
       "      <td>0</td>\n",
       "      <td>5.46</td>\n",
       "      <td>PY</td>\n",
       "      <td>1627337559</td>\n",
       "    </tr>\n",
       "    <tr>\n",
       "      <th>590</th>\n",
       "      <td>Mareeba</td>\n",
       "      <td>-17.0000</td>\n",
       "      <td>145.4333</td>\n",
       "      <td>68.72</td>\n",
       "      <td>86</td>\n",
       "      <td>74</td>\n",
       "      <td>2.26</td>\n",
       "      <td>AU</td>\n",
       "      <td>1627337413</td>\n",
       "    </tr>\n",
       "  </tbody>\n",
       "</table>\n",
       "<p>193 rows × 9 columns</p>\n",
       "</div>"
      ],
      "text/plain": [
       "                      City      Lat       Lng  Max Temp  Humidity  Cloudiness  \\\n",
       "0    Conceição do Araguaia  -8.2578  -49.2647     82.35        32          48   \n",
       "3          Bambous Virieux -20.3428   57.7575     66.22        77          77   \n",
       "5                  Rikitea -23.1203 -134.9692     74.08        77          89   \n",
       "7              East London -33.0153   27.9116     64.90        25         100   \n",
       "8               Gold Coast -28.0000  153.4333     55.20        82           0   \n",
       "..                     ...      ...       ...       ...       ...         ...   \n",
       "584                Sambava -14.2667   50.1667     69.91        79          95   \n",
       "585              Tocopilla -22.0920  -70.1979     61.72        77          19   \n",
       "587                Chicama  -7.8447  -79.1469     66.74        70          21   \n",
       "588  Mayor Pablo Lagerenza -19.9309  -60.7718     87.19        26           0   \n",
       "590                Mareeba -17.0000  145.4333     68.72        86          74   \n",
       "\n",
       "     Wind Speed Country        Date  \n",
       "0          2.39      BR  1627337423  \n",
       "3         14.47      MU  1627337424  \n",
       "5         18.45      PF  1627337425  \n",
       "7         11.39      ZA  1627337425  \n",
       "8          0.00      AU  1627337426  \n",
       "..          ...     ...         ...  \n",
       "584       13.49      MG  1627337558  \n",
       "585       13.00      CL  1627337527  \n",
       "587        9.82      PE  1627337558  \n",
       "588        5.46      PY  1627337559  \n",
       "590        2.26      AU  1627337413  \n",
       "\n",
       "[193 rows x 9 columns]"
      ]
     },
     "execution_count": 20,
     "metadata": {},
     "output_type": "execute_result"
    }
   ],
   "source": [
    "#create separate dataframes for Northern and Southern hemisphere\n",
    "\n",
    "north_df = weather_df.loc[weather_df['Lat'] > 0]\n",
    "north_df\n",
    "\n",
    "south_df = weather_df.loc[weather_df['Lat'] < 0]\n",
    "south_df"
   ]
  },
  {
   "cell_type": "code",
   "execution_count": 32,
   "id": "1d8e38dc-5084-4ec4-9abe-6f3cc45e6e03",
   "metadata": {},
   "outputs": [
    {
     "name": "stdout",
     "output_type": "stream",
     "text": [
      "For Nothern Hemisphere Latitude vs Temperature the Pearson r value is -0.6528526146146787 and the Pearson p value is 4.520139685951831e-50\n"
     ]
    },
    {
     "data": {
      "text/plain": [
       "1      53.821663\n",
       "2      57.659410\n",
       "4      89.386173\n",
       "6      89.529075\n",
       "10     59.856560\n",
       "         ...    \n",
       "586    90.471414\n",
       "589    67.705927\n",
       "591    65.585868\n",
       "592    71.938494\n",
       "593    65.933659\n",
       "Name: Lat, Length: 401, dtype: float64"
      ]
     },
     "execution_count": 32,
     "metadata": {},
     "output_type": "execute_result"
    }
   ],
   "source": [
    "#calculate linear regression for temperature vs latitude for only Northern Hemisphere cities\n",
    "nt_pearson = st.pearsonr(north_df[\"Lat\"],north_df[\"Max Temp\"])\n",
    "print(f\"For Nothern Hemisphere Latitude vs Temperature the Pearson r value is {nt_pearson[0]} and the Pearson p value is {nt_pearson[1]}\")\n",
    "\n",
    "(nt_slope, nt_intercept, nt_rvalue, nt_pvalue, nt_stderr) = linregress(north_df[\"Lat\"],north_df[\"Max Temp\"])\n",
    "\n",
    "nt_regress_values = (north_df[\"Lat\"] * nt_slope + nt_intercept)\n",
    "\n",
    "nt_equation = \"y = \"+str(round(nt_slope,2))+\"x+\" +str(round(nt_intercept,2))\n",
    "\n",
    "nt_regress_values"
   ]
  },
  {
   "cell_type": "code",
   "execution_count": 33,
   "id": "cce81a2a-3c8e-463a-a169-e2c5d8e68463",
   "metadata": {},
   "outputs": [
    {
     "name": "stdout",
     "output_type": "stream",
     "text": [
      "y = -0.48x+90.85\n"
     ]
    }
   ],
   "source": [
    "print(nt_equation)"
   ]
  },
  {
   "cell_type": "code",
   "execution_count": 34,
   "id": "75cbfcc8-d9c8-48d8-be3d-7a7d1fca0c0a",
   "metadata": {},
   "outputs": [
    {
     "data": {
      "image/png": "[encoded data removed]",
      "text/plain": [
       "<Figure size 432x288 with 1 Axes>"
      ]
     },
     "metadata": {
      "needs_background": "light"
     },
     "output_type": "display_data"
    }
   ],
   "source": [
    "#create a Latutide vs Temperature scatter plot with linear regression for only Northern Hemisphere cities\n",
    "\n",
    "plt.scatter(north_df[\"Lat\"],north_df[\"Max Temp\"])\n",
    "plt.xlabel(\"Latitude\")\n",
    "plt.ylabel(\"Max Temperature (F)\")\n",
    "plt.title(\"Northern Hemisphere - Max Temp vs. Latitude Linear Regression\")\n",
    "plt.plot(north_df[\"Lat\"], nt_regress_values, \"r-\")\n",
    "plt.annotate(nt_equation,(0,40),color=\"r\")\n",
    "plt.savefig('north_temp_regression.png')\n",
    "plt.show()\n",
    "\n"
   ]
  },
  {
   "cell_type": "code",
   "execution_count": 35,
   "id": "1eb62863-a381-4eb7-ab52-5a72aaa04598",
   "metadata": {},
   "outputs": [
    {
     "name": "stdout",
     "output_type": "stream",
     "text": [
      "For Southern Hemisphere Latitude vs Temperature the Pearson r value is -0.6528526146146787 and the Pearson p value is 4.520139685951831e-50\n"
     ]
    },
    {
     "data": {
      "text/plain": [
       "0      72.810986\n",
       "3      64.368965\n",
       "5      62.428732\n",
       "7      55.516543\n",
       "8      59.020000\n",
       "         ...    \n",
       "584    68.613447\n",
       "585    63.147055\n",
       "587    73.099559\n",
       "588    64.656699\n",
       "590    66.704090\n",
       "Name: Lat, Length: 193, dtype: float64"
      ]
     },
     "execution_count": 35,
     "metadata": {},
     "output_type": "execute_result"
    }
   ],
   "source": [
    "#calculate linear regression for temperature vs latitude for only Southern Hemisphere cities\n",
    "st_pearson = st.pearsonr(south_df[\"Lat\"],south_df[\"Max Temp\"])\n",
    "print(f\"For Southern Hemisphere Latitude vs Temperature the Pearson r value is {nt_pearson[0]} and the Pearson p value is {nt_pearson[1]}\")\n",
    "\n",
    "(st_slope, st_intercept, st_rvalue, st_pvalue, st_stderr) = linregress(south_df[\"Lat\"],south_df[\"Max Temp\"])\n",
    "\n",
    "st_regress_values = (south_df[\"Lat\"] * st_slope + st_intercept)\n",
    "st_equation = \"y = \"+str(round(st_slope,2))+\"x+\" +str(round(st_intercept,2))\n",
    "\n",
    "st_regress_values"
   ]
  },
  {
   "cell_type": "code",
   "execution_count": 39,
   "id": "af312c0a-50e3-4250-966a-1fb68cc6a756",
   "metadata": {},
   "outputs": [
    {
     "data": {
      "image/png": "[encoded data removed]",
      "text/plain": [
       "<Figure size 432x288 with 1 Axes>"
      ]
     },
     "metadata": {
      "needs_background": "light"
     },
     "output_type": "display_data"
    }
   ],
   "source": [
    "#create a Latutide vs Temperature scatter plot with linear regression for only Southern Hemisphere cities\n",
    "\n",
    "plt.scatter(south_df[\"Lat\"],south_df[\"Max Temp\"])\n",
    "plt.xlabel(\"Latitude\")\n",
    "plt.ylabel(\"Max Temperature (F)\")\n",
    "plt.title(\"Southern Hemisphere - Max Temp vs. Latitude Linear Regression\")\n",
    "plt.plot(south_df[\"Lat\"], st_regress_values, \"r-\")\n",
    "plt.annotate(st_equation,(-50,80),color=\"r\")\n",
    "plt.savefig('south_temp_regression.png')\n",
    "plt.show()\n"
   ]
  },
  {
   "cell_type": "code",
   "execution_count": 61,
   "id": "5283939e-efbe-4e31-9014-e75a56ef5fbd",
   "metadata": {},
   "outputs": [],
   "source": [
    "# The above scatter plots with linear regression show the relationship between temperature and distance from the equator.\n",
    "# For cities in both hemispheres, the linear regression shows that there is a negative correlation between distance from the equator and temperature."
   ]
  },
  {
   "cell_type": "code",
   "execution_count": 48,
   "id": "51e7b3d8-f1aa-4e30-9ff9-2d0e25214d3c",
   "metadata": {},
   "outputs": [
    {
     "name": "stdout",
     "output_type": "stream",
     "text": [
      "For Nothern Hemisphere Latitude vs Humidity the Pearson r value is -0.016315836822148877 and the Pearson p value is 0.7446315726807989\n"
     ]
    },
    {
     "data": {
      "text/plain": [
       "1      70.028995\n",
       "2      70.173797\n",
       "4      71.370882\n",
       "6      71.376273\n",
       "10     70.256698\n",
       "         ...    \n",
       "586    71.411829\n",
       "589    70.552863\n",
       "591    70.472871\n",
       "592    70.712562\n",
       "593    70.485994\n",
       "Name: Lat, Length: 401, dtype: float64"
      ]
     },
     "execution_count": 48,
     "metadata": {},
     "output_type": "execute_result"
    }
   ],
   "source": [
    "#calculate linear regression for humidity vs latitude for only Northern Hemisphere cities\n",
    "nh_pearson = st.pearsonr(north_df[\"Lat\"],north_df[\"Humidity\"])\n",
    "print(f\"For Nothern Hemisphere Latitude vs Humidity the Pearson r value is {nh_pearson[0]} and the Pearson p value is {nh_pearson[1]}\")\n",
    "\n",
    "(nh_slope, nh_intercept, nh_rvalue, nh_pvalue, nh_stderr) = linregress(north_df[\"Lat\"],north_df[\"Humidity\"])\n",
    "\n",
    "nh_regress_values = (north_df[\"Lat\"] * nh_slope + nh_intercept)\n",
    "\n",
    "nh_equation = \"y = \"+str(round(nh_slope,2))+\"x+\" +str(round(nh_intercept,2))\n",
    "\n",
    "nh_regress_values"
   ]
  },
  {
   "cell_type": "code",
   "execution_count": 49,
   "id": "b494d021-d905-4de5-81d6-2ced93c49444",
   "metadata": {},
   "outputs": [
    {
     "data": {
      "image/png": "[encoded data removed]",
      "text/plain": [
       "<Figure size 432x288 with 1 Axes>"
      ]
     },
     "metadata": {
      "needs_background": "light"
     },
     "output_type": "display_data"
    }
   ],
   "source": [
    "#create a Latutide vs Humidity scatter plot with linear regression for only Northern Hemisphere cities\n",
    "\n",
    "plt.scatter(north_df[\"Lat\"],north_df[\"Humidity\"])\n",
    "plt.xlabel(\"Latitude\")\n",
    "plt.ylabel(\"Humidity (%)\")\n",
    "plt.title(\"Northern Hemisphere - Humidity vs. Latitude Linear Regression\")\n",
    "plt.plot(north_df[\"Lat\"], nh_regress_values, \"r-\")\n",
    "plt.annotate(nh_equation,(55,10),color=\"r\")\n",
    "plt.savefig('north_humid_regression.png')\n",
    "plt.show()"
   ]
  },
  {
   "cell_type": "code",
   "execution_count": 50,
   "id": "6576beee-0975-4039-8933-ccac9d0b9311",
   "metadata": {},
   "outputs": [
    {
     "name": "stdout",
     "output_type": "stream",
     "text": [
      "For Southern Hemisphere Latitude vs Humidity the Pearson r value is 0.06421575179340008 and the Pearson p value is 0.37495257722435227\n"
     ]
    },
    {
     "data": {
      "text/plain": [
       "0      67.005839\n",
       "3      65.794063\n",
       "5      65.515560\n",
       "7      64.523378\n",
       "8      65.026267\n",
       "         ...    \n",
       "584    66.403320\n",
       "585    65.618669\n",
       "587    67.047261\n",
       "588    65.835364\n",
       "590    66.129249\n",
       "Name: Lat, Length: 193, dtype: float64"
      ]
     },
     "execution_count": 50,
     "metadata": {},
     "output_type": "execute_result"
    }
   ],
   "source": [
    "#calculate linear regression for humidity vs latitude for only Southern Hemisphere cities\n",
    "sh_pearson = st.pearsonr(south_df[\"Lat\"],south_df[\"Humidity\"])\n",
    "print(f\"For Southern Hemisphere Latitude vs Humidity the Pearson r value is {sh_pearson[0]} and the Pearson p value is {sh_pearson[1]}\")\n",
    "\n",
    "(sh_slope, sh_intercept, sh_rvalue, sh_pvalue, sh_stderr) = linregress(south_df[\"Lat\"],south_df[\"Humidity\"])\n",
    "\n",
    "sh_regress_values = (south_df[\"Lat\"] * sh_slope + sh_intercept)\n",
    "\n",
    "sh_equation = \"y = \"+str(round(sh_slope,2))+\"x+\" +str(round(sh_intercept,2))\n",
    "\n",
    "sh_regress_values"
   ]
  },
  {
   "cell_type": "code",
   "execution_count": 51,
   "id": "8433f794-9ab0-4fd3-83e8-88d4ba4237b0",
   "metadata": {},
   "outputs": [
    {
     "data": {
      "image/png": "[encoded data removed]",
      "text/plain": [
       "<Figure size 432x288 with 1 Axes>"
      ]
     },
     "metadata": {
      "needs_background": "light"
     },
     "output_type": "display_data"
    }
   ],
   "source": [
    "#create a Latutide vs Humidity scatter plot with linear regression for only Southern Hemisphere cities\n",
    "\n",
    "plt.scatter(south_df[\"Lat\"],south_df[\"Humidity\"])\n",
    "plt.xlabel(\"Latitude\")\n",
    "plt.ylabel(\"Humidity (%)\")\n",
    "plt.title(\"Southern Hemisphere - Humidty vs. Latitude Linear Regression\")\n",
    "plt.plot(south_df[\"Lat\"], sh_regress_values, \"r-\")\n",
    "plt.annotate(sh_equation,(-55,20),color=\"r\")\n",
    "plt.savefig('south_humid_regression.png')\n",
    "plt.show()"
   ]
  },
  {
   "cell_type": "markdown",
   "id": "4223ad2f-95b2-466a-a62e-5a64d218a93d",
   "metadata": {},
   "source": [
    "# The above linear regressions show that there is not a strong correlation between latitude and humidity for either the Northern hemisphere or the Southern hemisphere."
   ]
  },
  {
   "cell_type": "code",
   "execution_count": 60,
   "id": "44e3473b-ae86-4bc6-aee6-3051a42115bb",
   "metadata": {},
   "outputs": [
    {
     "name": "stdout",
     "output_type": "stream",
     "text": [
      "For Nothern Hemisphere Latitude vs Cloudiness the Pearson r value is -0.10951777313601789 and the Pearson p value is 0.028318519326056446\n"
     ]
    },
    {
     "data": {
      "text/plain": [
       "1      47.340214\n",
       "2      49.042934\n",
       "4      63.119368\n",
       "6      63.182771\n",
       "10     50.017759\n",
       "         ...    \n",
       "586    63.600865\n",
       "589    53.500342\n",
       "591    52.559721\n",
       "592    55.378235\n",
       "593    52.714028\n",
       "Name: Lat, Length: 401, dtype: float64"
      ]
     },
     "execution_count": 60,
     "metadata": {},
     "output_type": "execute_result"
    }
   ],
   "source": [
    "#calculate linear regression for cloudiness vs latitude for only Northern Hemisphere cities\n",
    "nc_pearson = st.pearsonr(north_df[\"Lat\"],north_df[\"Cloudiness\"])\n",
    "print(f\"For Nothern Hemisphere Latitude vs Cloudiness the Pearson r value is {nc_pearson[0]} and the Pearson p value is {nc_pearson[1]}\")\n",
    "\n",
    "(nc_slope, nc_intercept, nc_rvalue, nc_pvalue, nc_stderr) = linregress(north_df[\"Lat\"],north_df[\"Cloudiness\"])\n",
    "\n",
    "nc_regress_values = (north_df[\"Lat\"] * nc_slope + nc_intercept)\n",
    "\n",
    "nc_equation = \"y = \"+str(round(nc_slope,2))+\"x+\" +str(round(nc_intercept,2))\n",
    "\n",
    "nc_regress_values"
   ]
  },
  {
   "cell_type": "code",
   "execution_count": 61,
   "id": "b0f834fe-1ae4-44d2-9ca2-446c13f3e044",
   "metadata": {},
   "outputs": [
    {
     "data": {
      "image/png": "[encoded data removed]",
      "text/plain": [
       "<Figure size 432x288 with 1 Axes>"
      ]
     },
     "metadata": {
      "needs_background": "light"
     },
     "output_type": "display_data"
    }
   ],
   "source": [
    "#create a Latutide vs Humidity scatter plot with linear regression for only Northern Hemisphere cities\n",
    "\n",
    "plt.scatter(north_df[\"Lat\"],north_df[\"Cloudiness\"])\n",
    "plt.xlabel(\"Latitude\")\n",
    "plt.ylabel(\"Cloudiness (%)\")\n",
    "plt.title(\"Northern Hemisphere - Cloudiness vs. Latitude Linear Regression\")\n",
    "plt.plot(north_df[\"Lat\"], nc_regress_values, \"r-\")\n",
    "plt.annotate(nc_equation,(10,50),color=\"r\")\n",
    "plt.savefig('north_cloud_regression.png')\n",
    "plt.show()"
   ]
  },
  {
   "cell_type": "code",
   "execution_count": 62,
   "id": "2b2a51de-5e02-4446-8d0a-d70f6ebfb4f8",
   "metadata": {},
   "outputs": [
    {
     "name": "stdout",
     "output_type": "stream",
     "text": [
      "For Southern Hemisphere Latitude vs Cloudiness the Pearson r value is -0.04834531758313621 and the Pearson p value is 0.5043492530398173\n"
     ]
    },
    {
     "data": {
      "text/plain": [
       "0      45.313559\n",
       "3      46.976857\n",
       "5      47.359133\n",
       "7      48.721014\n",
       "8      48.030742\n",
       "         ...    \n",
       "584    46.140584\n",
       "585    47.217605\n",
       "587    45.256703\n",
       "588    46.920166\n",
       "590    46.516776\n",
       "Name: Lat, Length: 193, dtype: float64"
      ]
     },
     "execution_count": 62,
     "metadata": {},
     "output_type": "execute_result"
    }
   ],
   "source": [
    "#calculate linear regression for cloudiness vs latitude for only Southern Hemisphere cities\n",
    "sc_pearson = st.pearsonr(south_df[\"Lat\"],south_df[\"Cloudiness\"])\n",
    "print(f\"For Southern Hemisphere Latitude vs Cloudiness the Pearson r value is {sc_pearson[0]} and the Pearson p value is {sc_pearson[1]}\")\n",
    "\n",
    "(sc_slope, sc_intercept, sc_rvalue, sc_pvalue, sc_stderr) = linregress(south_df[\"Lat\"],south_df[\"Cloudiness\"])\n",
    "\n",
    "sc_regress_values = (south_df[\"Lat\"] * sc_slope + sc_intercept)\n",
    "\n",
    "sc_equation = \"y = \"+str(round(sc_slope,2))+\"x+\" +str(round(sc_intercept,2))\n",
    "\n",
    "sc_regress_values"
   ]
  },
  {
   "cell_type": "code",
   "execution_count": 66,
   "id": "82a36fb9-9dc6-4c42-b6d8-97f17a6c2ee2",
   "metadata": {},
   "outputs": [
    {
     "data": {
      "image/png": "[encoded data removed]",
      "text/plain": [
       "<Figure size 432x288 with 1 Axes>"
      ]
     },
     "metadata": {
      "needs_background": "light"
     },
     "output_type": "display_data"
    }
   ],
   "source": [
    "#create a Latutide vs Cloudiness scatter plot with linear regression for only Southern Hemisphere cities\n",
    "\n",
    "plt.scatter(south_df[\"Lat\"],south_df[\"Cloudiness\"])\n",
    "plt.xlabel(\"Latitude\")\n",
    "plt.ylabel(\"Cloudiness (%)\")\n",
    "plt.title(\"Southern Hemisphere - Cloudiness vs. Latitude Linear Regression\")\n",
    "plt.plot(south_df[\"Lat\"], sc_regress_values, \"r-\")\n",
    "plt.annotate(sc_equation,(-55,20),color=\"r\")\n",
    "plt.savefig('south_cloud_regression.png')\n",
    "plt.show()"
   ]
  },
  {
   "cell_type": "code",
   "execution_count": 74,
   "id": "0ee7e813-64b6-478e-8cb0-b625d2a1ea53",
   "metadata": {},
   "outputs": [],
   "source": [
    "# The linear regressions above show that there is a much stronger correlation between distance from the equator and cloudiness for cities in the Southern hemisphere\n",
    "# than for cities in the Northern hemisphere."
   ]
  },
  {
   "cell_type": "code",
   "execution_count": 67,
   "id": "a1a428c5-aa2b-400c-ad5b-151d497630b2",
   "metadata": {},
   "outputs": [
    {
     "name": "stdout",
     "output_type": "stream",
     "text": [
      "For Nothern Hemisphere Latitude vs Wind Speed the Pearson r value is -0.026327214806733133 and the Pearson p value is 0.5991331978216691\n"
     ]
    },
    {
     "data": {
      "text/plain": [
       "1      7.222964\n",
       "2      7.278423\n",
       "4      7.736904\n",
       "6      7.738970\n",
       "10     7.310174\n",
       "         ...   \n",
       "586    7.752587\n",
       "589    7.423605\n",
       "591    7.392968\n",
       "592    7.484769\n",
       "593    7.397994\n",
       "Name: Lat, Length: 401, dtype: float64"
      ]
     },
     "execution_count": 67,
     "metadata": {},
     "output_type": "execute_result"
    }
   ],
   "source": [
    "#calculate linear regression for wind speed vs latitude for only Northern Hemisphere cities\n",
    "nw_pearson = st.pearsonr(north_df[\"Lat\"],north_df[\"Wind Speed\"])\n",
    "print(f\"For Nothern Hemisphere Latitude vs Wind Speed the Pearson r value is {nw_pearson[0]} and the Pearson p value is {nw_pearson[1]}\")\n",
    "\n",
    "(nw_slope, nw_intercept, nw_rvalue, nw_pvalue, nw_stderr) = linregress(north_df[\"Lat\"],north_df[\"Wind Speed\"])\n",
    "\n",
    "nw_regress_values = (north_df[\"Lat\"] * nw_slope + nw_intercept)\n",
    "\n",
    "nw_equation = \"y = \"+str(round(nw_slope,2))+\"x+\" +str(round(nw_intercept,2))\n",
    "\n",
    "nw_regress_values"
   ]
  },
  {
   "cell_type": "code",
   "execution_count": 69,
   "id": "97feeacf-9b0b-4233-bf7a-acc988baed91",
   "metadata": {},
   "outputs": [
    {
     "data": {
      "image/png": "[encoded data removed]",
      "text/plain": [
       "<Figure size 432x288 with 1 Axes>"
      ]
     },
     "metadata": {
      "needs_background": "light"
     },
     "output_type": "display_data"
    }
   ],
   "source": [
    "#create a Latutide vs Wind Speed scatter plot with linear regression for only Northern Hemisphere cities\n",
    "\n",
    "plt.scatter(north_df[\"Lat\"],north_df[\"Wind Speed\"])\n",
    "plt.xlabel(\"Latitude\")\n",
    "plt.ylabel(\"Wind Speed (mph)\")\n",
    "plt.title(\"Northern Hemisphere - Wind Speed vs. Latitude Linear Regression\")\n",
    "plt.plot(north_df[\"Lat\"], nw_regress_values, \"r-\")\n",
    "plt.annotate(nw_equation,(50,25),color=\"r\")\n",
    "plt.savefig('north_wind_regression.png')\n",
    "plt.show()"
   ]
  },
  {
   "cell_type": "code",
   "execution_count": 70,
   "id": "0bbea1d7-a12e-46d7-991e-eb6d38ed4634",
   "metadata": {},
   "outputs": [
    {
     "name": "stdout",
     "output_type": "stream",
     "text": [
      "For Southern Hemisphere Latitude vs Wind Speed the Pearson r value is -0.321294918090028 and the Pearson p value is 5.214751254629544e-06\n"
     ]
    },
    {
     "data": {
      "text/plain": [
       "0       6.338193\n",
       "3       8.307521\n",
       "5       8.760132\n",
       "7      10.372586\n",
       "8       9.555311\n",
       "         ...    \n",
       "584     7.317382\n",
       "585     8.592564\n",
       "587     6.270876\n",
       "588     8.240399\n",
       "590     7.762790\n",
       "Name: Lat, Length: 193, dtype: float64"
      ]
     },
     "execution_count": 70,
     "metadata": {},
     "output_type": "execute_result"
    }
   ],
   "source": [
    "#calculate linear regression for cloudiness vs latitude for only Southern Hemisphere cities\n",
    "sw_pearson = st.pearsonr(south_df[\"Lat\"],south_df[\"Wind Speed\"])\n",
    "print(f\"For Southern Hemisphere Latitude vs Wind Speed the Pearson r value is {sw_pearson[0]} and the Pearson p value is {sw_pearson[1]}\")\n",
    "\n",
    "(sw_slope, sw_intercept, sw_rvalue, sw_pvalue, sw_stderr) = linregress(south_df[\"Lat\"],south_df[\"Wind Speed\"])\n",
    "\n",
    "sw_regress_values = (south_df[\"Lat\"] * sw_slope + sw_intercept)\n",
    "\n",
    "sw_equation = \"y = \"+str(round(sw_slope,2))+\"x+\" +str(round(sw_intercept,2))\n",
    "\n",
    "sw_regress_values"
   ]
  },
  {
   "cell_type": "code",
   "execution_count": 72,
   "id": "4902933b-442d-495f-a881-784c3cf3007a",
   "metadata": {},
   "outputs": [
    {
     "data": {
      "image/png": "[encoded data removed]",
      "text/plain": [
       "<Figure size 432x288 with 1 Axes>"
      ]
     },
     "metadata": {
      "needs_background": "light"
     },
     "output_type": "display_data"
    }
   ],
   "source": [
    "#create a Latutide vs Cloudiness scatter plot with linear regression for only Southern Hemisphere cities\n",
    "\n",
    "plt.scatter(south_df[\"Lat\"],south_df[\"Wind Speed\"])\n",
    "plt.xlabel(\"Latitude\")\n",
    "plt.ylabel(\"Wind Speed (mph)\")\n",
    "plt.title(\"Southern Hemisphere - Wind Speed vs. Latitude Linear Regression\")\n",
    "plt.plot(south_df[\"Lat\"], sw_regress_values, \"r-\")\n",
    "plt.annotate(sw_equation,(-20,31),color=\"r\")\n",
    "plt.savefig('south_wind_regression.png')\n",
    "plt.show()"
   ]
  },
  {
   "cell_type": "code",
   "execution_count": 79,
   "id": "f695f207-4850-4b8c-b0e1-5e01a3290da6",
   "metadata": {},
   "outputs": [],
   "source": [
    "#The above linear regressions show little relationship between distance fromt the equator and a city's wind speed."
   ]
  },
  {
   "cell_type": "code",
   "execution_count": null,
   "id": "2ba03e76-cd8c-4c52-870c-e1314d0c1af9",
   "metadata": {},
   "outputs": [],
   "source": []
  }
 ],
 "metadata": {
  "kernelspec": {
   "display_name": "Python 3",
   "language": "python",
   "name": "python3"
  },
  "language_info": {
   "codemirror_mode": {
    "name": "ipython",
    "version": 3
   },
   "file_extension": ".py",
   "mimetype": "text/x-python",
   "name": "python",
   "nbconvert_exporter": "python",
   "pygments_lexer": "ipython3",
   "version": "3.7.10"
  }
 },
 "nbformat": 4,
 "nbformat_minor": 5
}
