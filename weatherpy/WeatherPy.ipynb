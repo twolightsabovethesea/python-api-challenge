{
 "cells": [
  {
   "cell_type": "code",
   "execution_count": 1,
   "id": "237414ff-6f66-4e04-a835-cc0863a26484",
   "metadata": {},
   "outputs": [
    {
     "name": "stdout",
     "output_type": "stream",
     "text": [
      "Untitled.ipynb         WeatherPyStarter.ipynb api_keys.py\n",
      "WeatherPy.ipynb        \u001b[34m__pycache__\u001b[m\u001b[m\n"
     ]
    }
   ],
   "source": [
    "!ls"
   ]
  },
  {
   "cell_type": "code",
   "execution_count": 49,
   "id": "c291904f-8dee-4b3c-8f73-cdd64f446747",
   "metadata": {},
   "outputs": [],
   "source": [
    "# Dependencies and Setup\n",
    "import matplotlib.pyplot as plt\n",
    "import pandas as pd\n",
    "import numpy as np\n",
    "import requests\n",
    "import time\n",
    "from scipy.stats import linregress\n",
    "import scipy.stats as st\n",
    "from pprint import pprint\n",
    "import json\n",
    "\n",
    "# Import API key\n",
    "from api_keys import weather_api_key\n",
    "\n",
    "# Incorporated citipy to determine city based on latitude and longitude\n",
    "from citipy import citipy\n",
    "\n",
    "# Output File (CSV)\n",
    "output_data_file = \"output_data/cities.csv\"\n",
    "\n",
    "# Range of latitudes and longitudes\n",
    "lat_range = (-90, 90)\n",
    "lng_range = (-180, 180)"
   ]
  },
  {
   "cell_type": "code",
   "execution_count": 3,
   "id": "a20a4737-ffaa-44e4-bb7e-c3ab5670bfbd",
   "metadata": {},
   "outputs": [
    {
     "name": "stdout",
     "output_type": "stream",
     "text": [
      "['hobart', 'havelock', 'atuona', 'vao', 'codrington', 'malpe', 'ushuaia', 'san pedro', 'cape town', 'mataura', 'abalak', 'torbay', 'puerto ayora', 'hamilton', 'new norfolk', 'algiers', 'barentsburg', 'touros', 'sentyabrskiy', 'rio grande', 'shatrovo', 'pevek', 'busselton', 'huarmey', 'victoria', 'punta arenas', 'longyearbyen', 'ponta do sol', 'manggar', 'nome', 'rikitea', 'bengkulu', 'waddan', 'bimbo', 'dikson', 'taltal', 'morant bay', 'ribeira grande', 'yellowknife', 'barrow', 'saskylakh', 'omsukchan', 'saint-philippe', 'hithadhoo', 'thompson', 'general roca', 'okha', 'tiksi', 'kucevo', 'torata', 'yokadouma', 'kaitangata', 'tasiilaq', 'dunedin', 'pergamino', 'cidreira', 'east london', 'sao joao da barra', 'muros', 'gobindapur', 'san rafael del sur', 'pisco', 'darnah', 'laguna', 'tepetzintla', 'jamestown', 'takoradi', 'upernavik', 'illoqqortoormiut', 'khatanga', 'arraial do cabo', 'lolua', 'qaanaaq', 'georgetown', 'midland', 'port keats', 'benghazi', 'port alfred', 'port hardy', 'uwayl', 'novyy urengoy', 'bredasdorp', 'djambala', 'nelidovo', 'itapemirim', 'butaritari', 'los llanos de aridane', 'new guinlo', 'amderma', 'aklavik', 'chapada dos guimaraes', 'albany', 'yenagoa', 'bambous virieux', 'bonavista', 'stornoway', 'carnarvon', 'mayor pablo lagerenza', 'silver city', 'meulaboh', 'port elizabeth', 'hofn', 'castro', 'benguela', 'mahebourg', 'pombas', 'kismayo', 'sao felix do xingu', 'asau', 'katsuura', 'aracati', 'conceicao do araguaia', 'provideniya', 'itarema', 'thinadhoo', 'djibo', 'annau', 'stettler', 'hermanus', 'jardim', 'lata', 'salalah', 'polson', 'viedma', 'hilo', 'winnemucca', 'faya', 'namibe', 'yulara', 'kodiak', 'pundaguitan', 'vaini', 'grand river south east', 'pouebo', 'sembe', 'bandarbeyla', 'alofi', 'belushya guba', 'pyatovskiy', 'horn lake', 'comarapa', 'saint george', 'huichapan', 'mys shmidta', 'sitka', 'sukumo', 'port antonio', 'sao filipe', 'manadhoo', 'hasaki', 'tateyama', 'hobyo', 'beirut', 'kapaa', 'taolanaro', 'manicore', 'port-gentil', 'port moresby', 'kahului', 'pangnirtung', 'dongsheng', 'kuty', 'asfi', 'afyonkarahisar', 'arona', 'nuevitas', 'hit', 'constitucion', 'devils lake', 'bilibino', 'kushmurun', 'methana', 'loreto', 'airai', 'norman wells', 'avarua', 'aksu', 'buritizeiro', 'ipameri', 'mindelo', 'sioux lookout', 'iqaluit', 'taoudenni', 'leningradskiy', 'tuktoyaktuk', 'kudymkar', 'suntar', 'huangpi', 'jacareacanga', 'rayachoti', 'lukovetskiy', 'marawi', 'san cristobal', 'lagoa', 'nhulunbuy', 'narsaq', 'mar del plata', 'binga', 'daru', 'itapage', 'waingapu', 'wattegama', 'mananara', 'humboldt', 'sechura', 'kuito', 'palabuhanratu', 'mana', 'fairbanks', 'chuy', 'caravelas', 'bonthe', 'kloulklubed', 'maldonado', 'cherskiy', 'notse', 'ntcheu', 'koson', 'kavaratti', 'lianzhou', 'nishihara', 'pasan', 'hambantota', 'bluff', 'cabo san lucas', 'nemuro', 'trinidad', 'klaksvik', 'louisbourg', 'raudeberg', 'namatanai', 'ushtobe', 'tazovskiy', 'itanhaem', 'santa cruz', 'nikolskoye', 'chokurdakh', 'basco', 'dingle', 'artyom', 'vilhena', 'nastola', 'guerrero negro', 'faanui', 'vila franca do campo', 'rorvik', 'gamba', 'college', 'eilenburg', 'komsomolskiy', 'sorvag', 'olafsvik', 'honiara', 'tsihombe', 'petropavlovsk-kamchatskiy', 'samusu', 'portland', 'yar-sale', 'sakakah', 'lebu', 'tyup', 'novobureyskiy', 'kruisfontein', 'milingimbi', 'umzimvubu', 'umm kaddadah', 'tual', 'kopavogur', 'meyungs', 'nouadhibou', 'nioro', 'broome', 'ilulissat', 'malwan', 'ladozhskaya', 'rawson', 'skibbereen', 'myrtle beach', 'semnan', 'saint-joseph', 'gurupi', 'avera', 'samalaeulu', 'san patricio', 'mwinilunga', 'necochea', 'isla del bosque', 'joshimath', 'atar', 'pandan', 'jasper', 'saint-pierre', 'ostrovnoy', 'kalisz', 'priboj', 'wulanhaote', 'ribeira brava', 'lompoc', 'mocuba', 'kalabo', 'acapulco', 'nanhai', 'ahuimanu', 'ormara', 'ola', 'northam', 'karamea', 'setermoen', 'saint-augustin', 'ciras', 'bethel', 'iberia', 'sao sebastiao do paraiso', 'nanortalik', 'vostok', 'agsu', 'vastervik', 'boa vista', 'saleaula', 'albanel', 'goderich', 'mitsamiouli', 'sorland', 'chiang khong', 'roura', 'allanmyo', 'adrar', 'morros', 'insar', 'tuggurt', 'marzuq', 'attawapiskat', 'shiyan', 'nogliki', 'wajima', 'ouadda', 'changji', 'lewiston', 'gat', 'lavrentiya', 'kazalinsk', 'svetlyy', 'longjiang', 'lang son', 'yerbogachen', 'lazaro cardenas', 'talnakh', 'diamantino', 'tefe', 'sulangan', 'ucluelet', 'mackay', 'barra patuca', 'luderitz', 'minab', 'manacapuru', 'ahipara', 'banda aceh', 'gao', 'barroualie', 'sandwick', 'ballarat', 'vasterhaninge', 'wundanyi', 'palmer', 'harper', 'salinopolis', 'darhan', 'newport', 'zhanatas', 'acarau', 'suhbaatar', 'yanan', 'kulhudhuffushi', 'sur', 'beira', 'umarkot', 'mocambique', 'meridian', 'lichinga', 'vysokyy', 'ambon', 'ouro branco', 'griffith', 'iacu', 'sept-iles', 'belmonte', 'esperance', 'abonnema', 'progreso', 'dongfeng', 'farafangana', 'havre-saint-pierre', 'vaitupu', 'dzhusaly', 'rosetta', 'cervo', 'vung tau', 'dodge city', 'goulburn', 'along', 'kamenskoye', 'lerwick', 'teofilo otoni', 'port hedland', 'severomuysk', 'araouane', 'shirokiy', 'kavieng', 'tuy hoa', 'menongue', 'khonuu', 'panguna', 'saint-francois', 'clyde river', 'karaton', 'vila', 'sinnamary', 'kudat', 'alyangula', 'pietarsaari', 'paamiut', 'khorramshahr', 'lincoln', 'zilair', 'hvide sande', 'ulaanbaatar', 'denizli', 'placido de castro', 'ellisras', 'bulanash', 'cockburn town', 'port lincoln', 'dickinson', 'karakol', 'ambilobe', 'ihosy', 'nizhneyansk', 'osa', 'pompeia', 'kintampo', 'norman', 'marsh harbour', 'nanyuki', 'anadyr', 'tingi', 'natal', 'aksarka', 'aksarayskiy', 'henderson', 'peruibe', 'lipin bor', 'whitianga', 'ankazoabo', 'wukari', 'biak', 'la ronge', 'gorontalo', 'severo-kurilsk', 'honningsvag', 'sisimiut', 'teknaf', 'jishou', 'caiaponia', 'lake charles', 'nguiu', 'fairlie', 'halalo', 'sumenep', 'hirara', 'lorengau', 'emerald', 'londonderry', 'preobrazhenskaya', 'emba', 'balad', 'kananga', 'souillac', 'beroroha', 'gazli', 'kot diji', 'inirida', 'christchurch', 'yeniseysk', 'johannesburg', 'ipora', 'dehloran', 'rungata', 'sucua', 'bereda', 'tiznit', 'constantine', 'villa oliva', 'ende', 'pucallpa', 'bougouni', 'warqla', 'naron', 'lebanon', 'reconquista', 'tuatapere', 'mayo', 'victoria point', 'grand baie', 'marcona', 'juneau', 'tura', 'brandon', 'joensuu', 'half moon bay', 'vestmannaeyjar', 'pasinler', 'morondava', 'tres arroyos', 'pelym', 'jamame', 'linhares', 'bloemfontein', 'pervomayskiy', 'portoferraio', 'sabang', 'sobolevo', 'fort nelson', 'buritis', 'tilichiki', 'nalut', 'santa isabel do rio negro', 'kuytun', 'roald', 'conde', 'talara', 'amazar', 'hrubieszow', 'russell', 'poronaysk', 'vila do maio', 'coihaique', 'san carlos de bariloche', 'itoman', 'padang', 'pacific grove', 'neunkirchen', 'tidore', 'xuddur', 'toliary', 'cuxhaven', 'camabatela', 'tumannyy', 'saint-jean-port-joli', 'saurimo', 'songjianghe', 'salamiyah', 'barawe', 'remanso', 'ust-nera', 'kitui', 'maniitsoq', 'sainte-maxime', 'moerai', 'amapa', 'ancud', 'yasnyy', 'qingdao', 'borama', 'teluk nibung', 'mumford', 'ruatoria', 'cilegon', 'jumla', 'henties bay', 'bokspits', 'itamaraca', 'sambava', 'booue', 'murzzuschlag', 'kharabali', 'dudinka', 'anyang', 'tanggu', 'rach gia', 'nampula', 'formoso do araguaia', 'vidisha', 'lubao', 'dolbeau', 'arlit', 'puerto escondido', 'aulnay-sous-bois', 'husavik', 'bengkalis', 'abu kamal', 'elliot lake', 'snyder', 'carballo', 'tambacounda', 'tshikapa', 'banmo', 'tagab', 'hualmay', 'arbazh', 'severnoye', 'wajir']\n"
     ]
    }
   ],
   "source": [
    "# List for holding lat_lngs and cities\n",
    "lat_lngs = []\n",
    "cities = []\n",
    "\n",
    "# Create a set of random lat and lng combinations\n",
    "lats = np.random.uniform(lat_range[0], lat_range[1], size=1500)\n",
    "lngs = np.random.uniform(lng_range[0], lng_range[1], size=1500)\n",
    "lat_lngs = zip(lats, lngs)\n",
    "\n",
    "# Identify nearest city for each lat, lng combination\n",
    "for lat_lng in lat_lngs:\n",
    "    city = citipy.nearest_city(lat_lng[0], lat_lng[1]).city_name\n",
    "    \n",
    "    # If the city is unique, then add it to a our cities list\n",
    "    if city not in cities:\n",
    "        cities.append(city)\n",
    "\n",
    "# Print the city count to confirm sufficient count\n",
    "print(cities)"
   ]
  },
  {
   "cell_type": "code",
   "execution_count": 11,
   "id": "89081070-d0f8-4d51-b8c5-c9a55356c3b9",
   "metadata": {},
   "outputs": [
    {
     "name": "stdout",
     "output_type": "stream",
     "text": [
      "{'base': 'stations',\n",
      " 'clouds': {'all': 96},\n",
      " 'cod': 200,\n",
      " 'coord': {'lat': 51.5085, 'lon': -0.1257},\n",
      " 'dt': 1627148111,\n",
      " 'id': 2643743,\n",
      " 'main': {'feels_like': 72.03,\n",
      "          'humidity': 76,\n",
      "          'pressure': 1007,\n",
      "          'temp': 71.6,\n",
      "          'temp_max': 74.91,\n",
      "          'temp_min': 67.55},\n",
      " 'name': 'London',\n",
      " 'sys': {'country': 'GB',\n",
      "         'id': 2006068,\n",
      "         'sunrise': 1627099957,\n",
      "         'sunset': 1627156865,\n",
      "         'type': 2},\n",
      " 'timezone': 3600,\n",
      " 'visibility': 10000,\n",
      " 'weather': [{'description': 'overcast clouds',\n",
      "              'icon': '04d',\n",
      "              'id': 804,\n",
      "              'main': 'Clouds'}],\n",
      " 'wind': {'deg': 90, 'speed': 10.36}}\n"
     ]
    }
   ],
   "source": [
    "#run a test api call for a single city and print the json response\n",
    "testurl = \"http://api.openweathermap.org/data/2.5/weather?q=\"\n",
    "key = f\"&appid={weather_api_key}\"\n",
    "units = \"&units=imperial\"\n",
    "\n",
    "testresponse = requests.get(testurl + \"london\" + key + units).json()\n",
    "pprint(testresponse)"
   ]
  },
  {
   "cell_type": "code",
   "execution_count": 5,
   "id": "79822882-af36-4617-b307-fa66b7ce5c6a",
   "metadata": {},
   "outputs": [
    {
     "ename": "KeyError",
     "evalue": "'name'",
     "output_type": "error",
     "traceback": [
      "\u001b[0;31m---------------------------------------------------------------------------\u001b[0m",
      "\u001b[0;31mKeyError\u001b[0m                                  Traceback (most recent call last)",
      "\u001b[0;32m<ipython-input-5-be1dc29d4a18>\u001b[0m in \u001b[0;36m<module>\u001b[0;34m\u001b[0m\n\u001b[0;32m----> 1\u001b[0;31m \u001b[0mprint\u001b[0m\u001b[0;34m(\u001b[0m\u001b[0mtestresponse\u001b[0m\u001b[0;34m[\u001b[0m\u001b[0;34m'name'\u001b[0m\u001b[0;34m]\u001b[0m\u001b[0;34m.\u001b[0m\u001b[0mreplace\u001b[0m\u001b[0;34m(\u001b[0m\u001b[0;34m\"C\"\u001b[0m\u001b[0;34m,\u001b[0m\u001b[0;34m\"\"\u001b[0m\u001b[0;34m)\u001b[0m\u001b[0;34m)\u001b[0m\u001b[0;34m\u001b[0m\u001b[0;34m\u001b[0m\u001b[0m\n\u001b[0m",
      "\u001b[0;31mKeyError\u001b[0m: 'name'"
     ]
    }
   ],
   "source": [
    "print(testresponse['name'].replace(\"C\",\"\"))\n"
   ]
  },
  {
   "cell_type": "code",
   "execution_count": 12,
   "id": "8f5bcb26-aee0-4ed1-ac1f-b507bfcd0fc9",
   "metadata": {},
   "outputs": [
    {
     "name": "stdout",
     "output_type": "stream",
     "text": [
      "Processing Record 1 for hobart\n",
      "Processing Record 2 for havelock\n",
      "Processing Record 3 for atuona\n",
      "Processing Record 4 for vao\n",
      "Processing Record 5 for codrington\n",
      "Processing Record 6 for malpe\n",
      "Processing Record 7 for ushuaia\n",
      "Processing Record 8 for san pedro\n",
      "Processing Record 9 for cape town\n",
      "Processing Record 10 for mataura\n",
      "Processing Record 11 for abalak\n",
      "Processing Record 12 for torbay\n",
      "Processing Record 13 for puerto ayora\n",
      "Processing Record 14 for hamilton\n",
      "Processing Record 15 for new norfolk\n",
      "Processing Record 16 for algiers\n",
      "City not found. Skipping.\n",
      "Processing Record 17 for touros\n",
      "City not found. Skipping.\n",
      "Processing Record 18 for rio grande\n",
      "Processing Record 19 for shatrovo\n",
      "Processing Record 20 for pevek\n",
      "Processing Record 21 for busselton\n",
      "Processing Record 22 for huarmey\n",
      "Processing Record 23 for victoria\n",
      "Processing Record 24 for punta arenas\n",
      "Processing Record 25 for longyearbyen\n",
      "Processing Record 26 for ponta do sol\n",
      "Processing Record 27 for manggar\n",
      "Processing Record 28 for nome\n",
      "Processing Record 29 for rikitea\n",
      "Processing Record 30 for bengkulu\n",
      "Processing Record 31 for waddan\n",
      "Processing Record 32 for bimbo\n",
      "Processing Record 33 for dikson\n",
      "Processing Record 34 for taltal\n",
      "Processing Record 35 for morant bay\n",
      "Processing Record 36 for ribeira grande\n",
      "Processing Record 37 for yellowknife\n",
      "Processing Record 38 for barrow\n",
      "Processing Record 39 for saskylakh\n",
      "Processing Record 40 for omsukchan\n",
      "Processing Record 41 for saint-philippe\n",
      "Processing Record 42 for hithadhoo\n",
      "Processing Record 43 for thompson\n",
      "Processing Record 44 for general roca\n",
      "Processing Record 45 for okha\n",
      "Processing Record 46 for tiksi\n",
      "Processing Record 47 for kucevo\n",
      "Processing Record 48 for torata\n",
      "Processing Record 49 for yokadouma\n",
      "Processing Record 50 for kaitangata\n",
      "Processing Record 51 for tasiilaq\n",
      "Processing Record 52 for dunedin\n",
      "Processing Record 53 for pergamino\n",
      "Processing Record 54 for cidreira\n",
      "Processing Record 55 for east london\n",
      "Processing Record 56 for sao joao da barra\n",
      "Processing Record 57 for muros\n",
      "Processing Record 58 for gobindapur\n",
      "Processing Record 59 for san rafael del sur\n",
      "Processing Record 60 for pisco\n",
      "Processing Record 61 for darnah\n",
      "Processing Record 62 for laguna\n",
      "Processing Record 63 for tepetzintla\n",
      "Processing Record 64 for jamestown\n",
      "Processing Record 65 for takoradi\n",
      "Processing Record 66 for upernavik\n",
      "City not found. Skipping.\n",
      "Processing Record 67 for khatanga\n",
      "Processing Record 68 for arraial do cabo\n",
      "City not found. Skipping.\n",
      "Processing Record 69 for qaanaaq\n",
      "Processing Record 70 for georgetown\n",
      "Processing Record 71 for midland\n",
      "Processing Record 72 for port keats\n",
      "Processing Record 73 for benghazi\n",
      "Processing Record 74 for port alfred\n",
      "Processing Record 75 for port hardy\n",
      "City not found. Skipping.\n",
      "Processing Record 76 for novyy urengoy\n",
      "Processing Record 77 for bredasdorp\n",
      "Processing Record 78 for djambala\n",
      "Processing Record 79 for nelidovo\n",
      "Processing Record 80 for itapemirim\n",
      "Processing Record 81 for butaritari\n",
      "Processing Record 82 for los llanos de aridane\n",
      "City not found. Skipping.\n",
      "City not found. Skipping.\n",
      "Processing Record 83 for aklavik\n",
      "Processing Record 84 for chapada dos guimaraes\n",
      "Processing Record 85 for albany\n",
      "Processing Record 86 for yenagoa\n",
      "Processing Record 87 for bambous virieux\n",
      "Processing Record 88 for bonavista\n",
      "Processing Record 89 for stornoway\n",
      "Processing Record 90 for carnarvon\n",
      "Processing Record 91 for mayor pablo lagerenza\n",
      "Processing Record 92 for silver city\n",
      "Processing Record 93 for meulaboh\n",
      "Processing Record 94 for port elizabeth\n",
      "Processing Record 95 for hofn\n",
      "Processing Record 96 for castro\n",
      "Processing Record 97 for benguela\n",
      "Processing Record 98 for mahebourg\n",
      "Processing Record 99 for pombas\n",
      "Processing Record 100 for kismayo\n",
      "Processing Record 101 for sao felix do xingu\n",
      "Processing Record 102 for asau\n",
      "Processing Record 103 for katsuura\n",
      "Processing Record 104 for aracati\n",
      "Processing Record 105 for conceicao do araguaia\n",
      "Processing Record 106 for provideniya\n",
      "Processing Record 107 for itarema\n",
      "Processing Record 108 for thinadhoo\n",
      "Processing Record 109 for djibo\n",
      "Processing Record 110 for annau\n",
      "Processing Record 111 for stettler\n",
      "Processing Record 112 for hermanus\n",
      "Processing Record 113 for jardim\n",
      "Processing Record 114 for lata\n",
      "Processing Record 115 for salalah\n",
      "Processing Record 116 for polson\n",
      "Processing Record 117 for viedma\n",
      "Processing Record 118 for hilo\n",
      "Processing Record 119 for winnemucca\n",
      "Processing Record 120 for faya\n",
      "Processing Record 121 for namibe\n",
      "Processing Record 122 for yulara\n",
      "Processing Record 123 for kodiak\n",
      "Processing Record 124 for pundaguitan\n",
      "Processing Record 125 for vaini\n",
      "City not found. Skipping.\n",
      "Processing Record 126 for pouebo\n",
      "Processing Record 127 for sembe\n",
      "Processing Record 128 for bandarbeyla\n",
      "Processing Record 129 for alofi\n",
      "City not found. Skipping.\n",
      "Processing Record 130 for pyatovskiy\n",
      "Processing Record 131 for horn lake\n",
      "Processing Record 132 for comarapa\n",
      "Processing Record 133 for saint george\n",
      "Processing Record 134 for huichapan\n",
      "City not found. Skipping.\n",
      "Processing Record 135 for sitka\n",
      "Processing Record 136 for sukumo\n",
      "Processing Record 137 for port antonio\n",
      "Processing Record 138 for sao filipe\n",
      "Processing Record 139 for manadhoo\n",
      "Processing Record 140 for hasaki\n",
      "Processing Record 141 for tateyama\n",
      "Processing Record 142 for hobyo\n",
      "Processing Record 143 for beirut\n",
      "Processing Record 144 for kapaa\n",
      "City not found. Skipping.\n",
      "Processing Record 145 for manicore\n",
      "Processing Record 146 for port-gentil\n",
      "Processing Record 147 for port moresby\n",
      "Processing Record 148 for kahului\n",
      "Processing Record 149 for pangnirtung\n",
      "Processing Record 150 for dongsheng\n",
      "Processing Record 151 for kuty\n",
      "Processing Record 152 for asfi\n",
      "Processing Record 153 for afyonkarahisar\n",
      "Processing Record 154 for arona\n",
      "Processing Record 155 for nuevitas\n",
      "Processing Record 156 for hit\n",
      "Processing Record 157 for constitucion\n",
      "Processing Record 158 for devils lake\n",
      "Processing Record 159 for bilibino\n",
      "Processing Record 160 for kushmurun\n",
      "Processing Record 161 for methana\n",
      "Processing Record 162 for loreto\n",
      "Processing Record 163 for airai\n",
      "Processing Record 164 for norman wells\n",
      "Processing Record 165 for avarua\n",
      "Processing Record 166 for aksu\n",
      "Processing Record 167 for buritizeiro\n",
      "Processing Record 168 for ipameri\n",
      "Processing Record 169 for mindelo\n",
      "Processing Record 170 for sioux lookout\n",
      "Processing Record 171 for iqaluit\n",
      "Processing Record 172 for taoudenni\n",
      "Processing Record 173 for leningradskiy\n",
      "Processing Record 174 for tuktoyaktuk\n",
      "Processing Record 175 for kudymkar\n",
      "Processing Record 176 for suntar\n",
      "Processing Record 177 for huangpi\n",
      "Processing Record 178 for jacareacanga\n",
      "Processing Record 179 for rayachoti\n",
      "Processing Record 180 for lukovetskiy\n",
      "Processing Record 181 for marawi\n",
      "Processing Record 182 for san cristobal\n",
      "Processing Record 183 for lagoa\n",
      "Processing Record 184 for nhulunbuy\n",
      "Processing Record 185 for narsaq\n",
      "Processing Record 186 for mar del plata\n",
      "Processing Record 187 for binga\n",
      "Processing Record 188 for daru\n",
      "Processing Record 189 for itapage\n",
      "Processing Record 190 for waingapu\n",
      "Processing Record 191 for wattegama\n",
      "Processing Record 192 for mananara\n",
      "Processing Record 193 for humboldt\n",
      "Processing Record 194 for sechura\n",
      "Processing Record 195 for kuito\n",
      "City not found. Skipping.\n",
      "Processing Record 196 for mana\n",
      "Processing Record 197 for fairbanks\n",
      "Processing Record 198 for chuy\n",
      "Processing Record 199 for caravelas\n",
      "Processing Record 200 for bonthe\n",
      "Processing Record 201 for kloulklubed\n",
      "Processing Record 202 for maldonado\n",
      "Processing Record 203 for cherskiy\n",
      "Processing Record 204 for notse\n",
      "Processing Record 205 for ntcheu\n",
      "Processing Record 206 for koson\n",
      "Processing Record 207 for kavaratti\n",
      "Processing Record 208 for lianzhou\n",
      "Processing Record 209 for nishihara\n",
      "Processing Record 210 for pasan\n",
      "Processing Record 211 for hambantota\n",
      "Processing Record 212 for bluff\n",
      "Processing Record 213 for cabo san lucas\n",
      "Processing Record 214 for nemuro\n",
      "Processing Record 215 for trinidad\n",
      "Processing Record 216 for klaksvik\n",
      "City not found. Skipping.\n",
      "Processing Record 217 for raudeberg\n",
      "Processing Record 218 for namatanai\n",
      "Processing Record 219 for ushtobe\n",
      "Processing Record 220 for tazovskiy\n",
      "Processing Record 221 for itanhaem\n",
      "Processing Record 222 for santa cruz\n",
      "Processing Record 223 for nikolskoye\n",
      "Processing Record 224 for chokurdakh\n",
      "Processing Record 225 for basco\n",
      "Processing Record 226 for dingle\n",
      "Processing Record 227 for artyom\n",
      "Processing Record 228 for vilhena\n",
      "Processing Record 229 for nastola\n",
      "Processing Record 230 for guerrero negro\n",
      "Processing Record 231 for faanui\n",
      "Processing Record 232 for vila franca do campo\n",
      "Processing Record 233 for rorvik\n",
      "Processing Record 234 for gamba\n",
      "Processing Record 235 for college\n",
      "Processing Record 236 for eilenburg\n",
      "Processing Record 237 for komsomolskiy\n",
      "City not found. Skipping.\n",
      "Processing Record 238 for olafsvik\n",
      "Processing Record 239 for honiara\n",
      "City not found. Skipping.\n",
      "Processing Record 240 for petropavlovsk-kamchatskiy\n",
      "City not found. Skipping.\n",
      "Processing Record 241 for portland\n",
      "Processing Record 242 for yar-sale\n",
      "Processing Record 243 for sakakah\n",
      "Processing Record 244 for lebu\n",
      "Processing Record 245 for tyup\n",
      "Processing Record 246 for novobureyskiy\n",
      "Processing Record 247 for kruisfontein\n",
      "City not found. Skipping.\n",
      "City not found. Skipping.\n",
      "Processing Record 248 for umm kaddadah\n",
      "Processing Record 249 for tual\n",
      "Processing Record 250 for kopavogur\n",
      "City not found. Skipping.\n",
      "Processing Record 251 for nouadhibou\n",
      "Processing Record 252 for nioro\n",
      "Processing Record 253 for broome\n",
      "Processing Record 254 for ilulissat\n",
      "City not found. Skipping.\n",
      "Processing Record 255 for ladozhskaya\n",
      "Processing Record 256 for rawson\n",
      "Processing Record 257 for skibbereen\n",
      "Processing Record 258 for myrtle beach\n",
      "Processing Record 259 for semnan\n",
      "Processing Record 260 for saint-joseph\n",
      "Processing Record 261 for gurupi\n",
      "Processing Record 262 for avera\n",
      "City not found. Skipping.\n",
      "Processing Record 263 for san patricio\n",
      "Processing Record 264 for mwinilunga\n",
      "Processing Record 265 for necochea\n",
      "Processing Record 266 for isla del bosque\n",
      "Processing Record 267 for joshimath\n",
      "Processing Record 268 for atar\n",
      "Processing Record 269 for pandan\n",
      "Processing Record 270 for jasper\n",
      "Processing Record 271 for saint-pierre\n",
      "Processing Record 272 for ostrovnoy\n",
      "Processing Record 273 for kalisz\n",
      "Processing Record 274 for priboj\n",
      "City not found. Skipping.\n",
      "Processing Record 275 for ribeira brava\n",
      "Processing Record 276 for lompoc\n",
      "Processing Record 277 for mocuba\n",
      "Processing Record 278 for kalabo\n",
      "Processing Record 279 for acapulco\n",
      "Processing Record 280 for nanhai\n",
      "Processing Record 281 for ahuimanu\n",
      "Processing Record 282 for ormara\n",
      "Processing Record 283 for ola\n",
      "Processing Record 284 for northam\n",
      "City not found. Skipping.\n",
      "Processing Record 285 for setermoen\n",
      "Processing Record 286 for saint-augustin\n",
      "City not found. Skipping.\n",
      "Processing Record 287 for bethel\n",
      "Processing Record 288 for iberia\n",
      "Processing Record 289 for sao sebastiao do paraiso\n",
      "Processing Record 290 for nanortalik\n",
      "Processing Record 291 for vostok\n",
      "City not found. Skipping.\n",
      "City not found. Skipping.\n",
      "Processing Record 292 for boa vista\n",
      "City not found. Skipping.\n",
      "Processing Record 293 for albanel\n",
      "Processing Record 294 for goderich\n",
      "Processing Record 295 for mitsamiouli\n",
      "Processing Record 296 for sorland\n",
      "Processing Record 297 for chiang khong\n",
      "Processing Record 298 for roura\n",
      "City not found. Skipping.\n",
      "Processing Record 299 for adrar\n",
      "Processing Record 300 for morros\n",
      "Processing Record 301 for insar\n",
      "City not found. Skipping.\n",
      "Processing Record 302 for marzuq\n",
      "City not found. Skipping.\n",
      "Processing Record 303 for shiyan\n",
      "Processing Record 304 for nogliki\n",
      "Processing Record 305 for wajima\n",
      "Processing Record 306 for ouadda\n",
      "Processing Record 307 for changji\n",
      "Processing Record 308 for lewiston\n",
      "Processing Record 309 for gat\n",
      "Processing Record 310 for lavrentiya\n",
      "City not found. Skipping.\n",
      "Processing Record 311 for svetlyy\n",
      "Processing Record 312 for longjiang\n",
      "Processing Record 313 for lang son\n",
      "Processing Record 314 for yerbogachen\n",
      "Processing Record 315 for lazaro cardenas\n",
      "Processing Record 316 for talnakh\n",
      "Processing Record 317 for diamantino\n",
      "Processing Record 318 for tefe\n",
      "Processing Record 319 for sulangan\n",
      "Processing Record 320 for ucluelet\n",
      "Processing Record 321 for mackay\n",
      "Processing Record 322 for barra patuca\n",
      "Processing Record 323 for luderitz\n",
      "Processing Record 324 for minab\n",
      "Processing Record 325 for manacapuru\n",
      "Processing Record 326 for ahipara\n",
      "Processing Record 327 for banda aceh\n",
      "Processing Record 328 for gao\n",
      "City not found. Skipping.\n",
      "Processing Record 329 for sandwick\n",
      "Processing Record 330 for ballarat\n",
      "Processing Record 331 for vasterhaninge\n",
      "Processing Record 332 for wundanyi\n",
      "Processing Record 333 for palmer\n",
      "Processing Record 334 for harper\n",
      "Processing Record 335 for salinopolis\n",
      "Processing Record 336 for darhan\n",
      "Processing Record 337 for newport\n",
      "City not found. Skipping.\n",
      "Processing Record 338 for acarau\n",
      "Processing Record 339 for suhbaatar\n",
      "City not found. Skipping.\n",
      "Processing Record 340 for kulhudhuffushi\n",
      "Processing Record 341 for sur\n",
      "Processing Record 342 for beira\n",
      "Processing Record 343 for umarkot\n",
      "City not found. Skipping.\n",
      "Processing Record 344 for meridian\n",
      "Processing Record 345 for lichinga\n",
      "Processing Record 346 for vysokyy\n",
      "Processing Record 347 for ambon\n",
      "Processing Record 348 for ouro branco\n",
      "Processing Record 349 for griffith\n",
      "Processing Record 350 for iacu\n",
      "Processing Record 351 for sept-iles\n",
      "Processing Record 352 for belmonte\n",
      "Processing Record 353 for esperance\n",
      "Processing Record 354 for abonnema\n",
      "Processing Record 355 for progreso\n",
      "Processing Record 356 for dongfeng\n",
      "Processing Record 357 for farafangana\n",
      "Processing Record 358 for havre-saint-pierre\n",
      "City not found. Skipping.\n",
      "City not found. Skipping.\n",
      "Processing Record 359 for rosetta\n",
      "Processing Record 360 for cervo\n",
      "Processing Record 361 for vung tau\n",
      "Processing Record 362 for dodge city\n",
      "Processing Record 363 for goulburn\n",
      "Processing Record 364 for along\n",
      "City not found. Skipping.\n",
      "Processing Record 365 for lerwick\n",
      "Processing Record 366 for teofilo otoni\n",
      "Processing Record 367 for port hedland\n",
      "Processing Record 368 for severomuysk\n",
      "Processing Record 369 for araouane\n",
      "Processing Record 370 for shirokiy\n",
      "Processing Record 371 for kavieng\n",
      "Processing Record 372 for tuy hoa\n",
      "Processing Record 373 for menongue\n",
      "City not found. Skipping.\n",
      "Processing Record 374 for panguna\n",
      "Processing Record 375 for saint-francois\n",
      "Processing Record 376 for clyde river\n",
      "Processing Record 377 for karaton\n",
      "Processing Record 378 for vila\n",
      "Processing Record 379 for sinnamary\n",
      "Processing Record 380 for kudat\n",
      "Processing Record 381 for alyangula\n",
      "Processing Record 382 for pietarsaari\n",
      "Processing Record 383 for paamiut\n",
      "Processing Record 384 for khorramshahr\n",
      "Processing Record 385 for lincoln\n",
      "Processing Record 386 for zilair\n",
      "Processing Record 387 for hvide sande\n",
      "Processing Record 388 for ulaanbaatar\n",
      "Processing Record 389 for denizli\n",
      "Processing Record 390 for placido de castro\n",
      "Processing Record 391 for ellisras\n",
      "Processing Record 392 for bulanash\n",
      "Processing Record 393 for cockburn town\n",
      "Processing Record 394 for port lincoln\n",
      "Processing Record 395 for dickinson\n",
      "Processing Record 396 for karakol\n",
      "Processing Record 397 for ambilobe\n",
      "Processing Record 398 for ihosy\n",
      "City not found. Skipping.\n",
      "Processing Record 399 for osa\n",
      "Processing Record 400 for pompeia\n",
      "Processing Record 401 for kintampo\n",
      "Processing Record 402 for norman\n",
      "Processing Record 403 for marsh harbour\n",
      "Processing Record 404 for nanyuki\n",
      "Processing Record 405 for anadyr\n",
      "Processing Record 406 for tingi\n",
      "Processing Record 407 for natal\n",
      "Processing Record 408 for aksarka\n",
      "Processing Record 409 for aksarayskiy\n",
      "Processing Record 410 for henderson\n",
      "Processing Record 411 for peruibe\n",
      "Processing Record 412 for lipin bor\n",
      "Processing Record 413 for whitianga\n",
      "Processing Record 414 for ankazoabo\n",
      "Processing Record 415 for wukari\n",
      "Processing Record 416 for biak\n",
      "Processing Record 417 for la ronge\n",
      "Processing Record 418 for gorontalo\n",
      "Processing Record 419 for severo-kurilsk\n",
      "Processing Record 420 for honningsvag\n",
      "Processing Record 421 for sisimiut\n",
      "Processing Record 422 for teknaf\n",
      "Processing Record 423 for jishou\n",
      "Processing Record 424 for caiaponia\n",
      "Processing Record 425 for lake charles\n",
      "City not found. Skipping.\n",
      "Processing Record 426 for fairlie\n",
      "City not found. Skipping.\n",
      "Processing Record 427 for sumenep\n",
      "Processing Record 428 for hirara\n",
      "Processing Record 429 for lorengau\n",
      "Processing Record 430 for emerald\n",
      "Processing Record 431 for londonderry\n",
      "City not found. Skipping.\n",
      "Processing Record 432 for emba\n",
      "Processing Record 433 for balad\n",
      "Processing Record 434 for kananga\n",
      "Processing Record 435 for souillac\n",
      "Processing Record 436 for beroroha\n",
      "Processing Record 437 for gazli\n",
      "Processing Record 438 for kot diji\n",
      "Processing Record 439 for inirida\n",
      "Processing Record 440 for christchurch\n",
      "Processing Record 441 for yeniseysk\n",
      "Processing Record 442 for johannesburg\n",
      "Processing Record 443 for ipora\n",
      "Processing Record 444 for dehloran\n",
      "City not found. Skipping.\n",
      "Processing Record 445 for sucua\n",
      "Processing Record 446 for bereda\n",
      "Processing Record 447 for tiznit\n",
      "Processing Record 448 for constantine\n",
      "City not found. Skipping.\n",
      "Processing Record 449 for ende\n",
      "Processing Record 450 for pucallpa\n",
      "Processing Record 451 for bougouni\n",
      "City not found. Skipping.\n",
      "Processing Record 452 for naron\n",
      "Processing Record 453 for lebanon\n",
      "Processing Record 454 for reconquista\n",
      "Processing Record 455 for tuatapere\n",
      "Processing Record 456 for mayo\n",
      "Processing Record 457 for victoria point\n",
      "Processing Record 458 for grand baie\n",
      "City not found. Skipping.\n",
      "Processing Record 459 for juneau\n",
      "Processing Record 460 for tura\n",
      "Processing Record 461 for brandon\n",
      "Processing Record 462 for joensuu\n",
      "Processing Record 463 for half moon bay\n",
      "Processing Record 464 for vestmannaeyjar\n",
      "Processing Record 465 for pasinler\n",
      "Processing Record 466 for morondava\n",
      "Processing Record 467 for tres arroyos\n",
      "Processing Record 468 for pelym\n",
      "Processing Record 469 for jamame\n",
      "Processing Record 470 for linhares\n",
      "Processing Record 471 for bloemfontein\n",
      "Processing Record 472 for pervomayskiy\n",
      "Processing Record 473 for portoferraio\n",
      "Processing Record 474 for sabang\n",
      "Processing Record 475 for sobolevo\n",
      "Processing Record 476 for fort nelson\n",
      "Processing Record 477 for buritis\n",
      "Processing Record 478 for tilichiki\n",
      "Processing Record 479 for nalut\n",
      "Processing Record 480 for santa isabel do rio negro\n",
      "Processing Record 481 for kuytun\n",
      "Processing Record 482 for roald\n",
      "Processing Record 483 for conde\n",
      "Processing Record 484 for talara\n",
      "Processing Record 485 for amazar\n",
      "Processing Record 486 for hrubieszow\n",
      "Processing Record 487 for russell\n",
      "Processing Record 488 for poronaysk\n",
      "Processing Record 489 for vila do maio\n",
      "Processing Record 490 for coihaique\n",
      "Processing Record 491 for san carlos de bariloche\n",
      "Processing Record 492 for itoman\n",
      "Processing Record 493 for padang\n",
      "Processing Record 494 for pacific grove\n",
      "Processing Record 495 for neunkirchen\n",
      "City not found. Skipping.\n",
      "Processing Record 496 for xuddur\n",
      "City not found. Skipping.\n",
      "Processing Record 497 for cuxhaven\n",
      "Processing Record 498 for camabatela\n",
      "City not found. Skipping.\n",
      "Processing Record 499 for saint-jean-port-joli\n",
      "Processing Record 500 for saurimo\n",
      "Processing Record 501 for songjianghe\n",
      "Processing Record 502 for salamiyah\n",
      "City not found. Skipping.\n",
      "Processing Record 503 for remanso\n",
      "Processing Record 504 for ust-nera\n",
      "Processing Record 505 for kitui\n",
      "Processing Record 506 for maniitsoq\n",
      "Processing Record 507 for sainte-maxime\n",
      "Processing Record 508 for moerai\n",
      "Processing Record 509 for amapa\n",
      "Processing Record 510 for ancud\n",
      "Processing Record 511 for yasnyy\n",
      "Processing Record 512 for qingdao\n",
      "City not found. Skipping.\n",
      "Processing Record 513 for teluk nibung\n",
      "Processing Record 514 for mumford\n",
      "City not found. Skipping.\n",
      "Processing Record 515 for cilegon\n",
      "Processing Record 516 for jumla\n",
      "Processing Record 517 for henties bay\n",
      "City not found. Skipping.\n",
      "Processing Record 518 for itamaraca\n",
      "Processing Record 519 for sambava\n",
      "Processing Record 520 for booue\n",
      "Processing Record 521 for murzzuschlag\n",
      "Processing Record 522 for kharabali\n",
      "Processing Record 523 for dudinka\n",
      "Processing Record 524 for anyang\n",
      "Processing Record 525 for tanggu\n",
      "Processing Record 526 for rach gia\n",
      "Processing Record 527 for nampula\n",
      "City not found. Skipping.\n",
      "Processing Record 528 for vidisha\n",
      "Processing Record 529 for lubao\n",
      "City not found. Skipping.\n",
      "Processing Record 530 for arlit\n",
      "Processing Record 531 for puerto escondido\n",
      "Processing Record 532 for aulnay-sous-bois\n",
      "Processing Record 533 for husavik\n",
      "City not found. Skipping.\n",
      "Processing Record 534 for abu kamal\n",
      "Processing Record 535 for elliot lake\n",
      "Processing Record 536 for snyder\n",
      "Processing Record 537 for carballo\n",
      "Processing Record 538 for tambacounda\n",
      "Processing Record 539 for tshikapa\n",
      "City not found. Skipping.\n",
      "Processing Record 540 for tagab\n",
      "Processing Record 541 for hualmay\n",
      "Processing Record 542 for arbazh\n",
      "Processing Record 543 for severnoye\n",
      "Processing Record 544 for wajir\n"
     ]
    }
   ],
   "source": [
    "cities_url = \"http://api.openweathermap.org/data/2.5/weather?q=\"\n",
    "key = f\"&appid={weather_api_key}\"\n",
    "units = \"&units=imperial\"\n",
    "\n",
    "City = []\n",
    "Lat = []\n",
    "Lng = []\n",
    "Max_Temp = []\n",
    "Humidity = []\n",
    "Cloudiness = []\n",
    "Wind_Speed = []\n",
    "Country = []\n",
    "Date = []\n",
    "\n",
    "city_count = 0\n",
    "\n",
    "for city in cities:\n",
    "    try:\n",
    "        wresponse = requests.get(cities_url + city + key + units).json()\n",
    "        City.append(wresponse['name'])\n",
    "        Lat.append(wresponse['coord']['lat'])\n",
    "        Lng.append(wresponse['coord']['lon'])\n",
    "        Max_Temp.append(wresponse['main']['temp_max'])\n",
    "        Humidity.append(wresponse['main']['humidity'])\n",
    "        Cloudiness.append(wresponse['clouds']['all'])\n",
    "        Wind_Speed.append(wresponse['wind']['speed'])\n",
    "        Country.append(wresponse['sys']['country'])\n",
    "        Date.append(wresponse['dt'])\n",
    "        city_count +=1\n",
    "        print(f\"Processing Record {city_count} for {city}\")\n",
    "    except:\n",
    "        print(\"City not found. Skipping.\")"
   ]
  },
  {
   "cell_type": "code",
   "execution_count": 13,
   "id": "9abd92d8-657d-4ce8-86e3-560cd1ae6312",
   "metadata": {},
   "outputs": [
    {
     "data": {
      "text/plain": [
       "544"
      ]
     },
     "execution_count": 13,
     "metadata": {},
     "output_type": "execute_result"
    }
   ],
   "source": [
    "# confirm appropriate number of records collects\n",
    "len(City)"
   ]
  },
  {
   "cell_type": "code",
   "execution_count": null,
   "id": "8ed3b946-0514-491e-85ed-841dc70fc543",
   "metadata": {},
   "outputs": [],
   "source": [
    "print(City)"
   ]
  },
  {
   "cell_type": "code",
   "execution_count": 14,
   "id": "e61ef494-739d-45cc-b848-871324061884",
   "metadata": {},
   "outputs": [
    {
     "data": {
      "text/html": [
       "<div>\n",
       "<style scoped>\n",
       "    .dataframe tbody tr th:only-of-type {\n",
       "        vertical-align: middle;\n",
       "    }\n",
       "\n",
       "    .dataframe tbody tr th {\n",
       "        vertical-align: top;\n",
       "    }\n",
       "\n",
       "    .dataframe thead th {\n",
       "        text-align: right;\n",
       "    }\n",
       "</style>\n",
       "<table border=\"1\" class=\"dataframe\">\n",
       "  <thead>\n",
       "    <tr style=\"text-align: right;\">\n",
       "      <th></th>\n",
       "      <th>City</th>\n",
       "      <th>Lat</th>\n",
       "      <th>Lng</th>\n",
       "      <th>Max Temp</th>\n",
       "      <th>Humidity</th>\n",
       "      <th>Cloudiness</th>\n",
       "      <th>Wind Speed</th>\n",
       "      <th>Country</th>\n",
       "      <th>Date</th>\n",
       "    </tr>\n",
       "  </thead>\n",
       "  <tbody>\n",
       "    <tr>\n",
       "      <th>0</th>\n",
       "      <td>Hobart</td>\n",
       "      <td>-42.8794</td>\n",
       "      <td>147.3294</td>\n",
       "      <td>44.92</td>\n",
       "      <td>77</td>\n",
       "      <td>99</td>\n",
       "      <td>1.99</td>\n",
       "      <td>AU</td>\n",
       "      <td>1627148245</td>\n",
       "    </tr>\n",
       "    <tr>\n",
       "      <th>1</th>\n",
       "      <td>Havelock</td>\n",
       "      <td>34.8791</td>\n",
       "      <td>-76.9013</td>\n",
       "      <td>86.99</td>\n",
       "      <td>58</td>\n",
       "      <td>1</td>\n",
       "      <td>5.99</td>\n",
       "      <td>US</td>\n",
       "      <td>1627148245</td>\n",
       "    </tr>\n",
       "    <tr>\n",
       "      <th>2</th>\n",
       "      <td>Atuona</td>\n",
       "      <td>-9.8000</td>\n",
       "      <td>-139.0333</td>\n",
       "      <td>77.97</td>\n",
       "      <td>70</td>\n",
       "      <td>96</td>\n",
       "      <td>16.20</td>\n",
       "      <td>PF</td>\n",
       "      <td>1627147805</td>\n",
       "    </tr>\n",
       "    <tr>\n",
       "      <th>3</th>\n",
       "      <td>Vao</td>\n",
       "      <td>-22.6667</td>\n",
       "      <td>167.4833</td>\n",
       "      <td>70.81</td>\n",
       "      <td>84</td>\n",
       "      <td>19</td>\n",
       "      <td>5.68</td>\n",
       "      <td>NC</td>\n",
       "      <td>1627147805</td>\n",
       "    </tr>\n",
       "    <tr>\n",
       "      <th>4</th>\n",
       "      <td>Codrington</td>\n",
       "      <td>-38.2667</td>\n",
       "      <td>141.9667</td>\n",
       "      <td>44.98</td>\n",
       "      <td>76</td>\n",
       "      <td>99</td>\n",
       "      <td>23.40</td>\n",
       "      <td>AU</td>\n",
       "      <td>1627147806</td>\n",
       "    </tr>\n",
       "  </tbody>\n",
       "</table>\n",
       "</div>"
      ],
      "text/plain": [
       "         City      Lat       Lng  Max Temp  Humidity  Cloudiness  Wind Speed  \\\n",
       "0      Hobart -42.8794  147.3294     44.92        77          99        1.99   \n",
       "1    Havelock  34.8791  -76.9013     86.99        58           1        5.99   \n",
       "2      Atuona  -9.8000 -139.0333     77.97        70          96       16.20   \n",
       "3         Vao -22.6667  167.4833     70.81        84          19        5.68   \n",
       "4  Codrington -38.2667  141.9667     44.98        76          99       23.40   \n",
       "\n",
       "  Country        Date  \n",
       "0      AU  1627148245  \n",
       "1      US  1627148245  \n",
       "2      PF  1627147805  \n",
       "3      NC  1627147805  \n",
       "4      AU  1627147806  "
      ]
     },
     "execution_count": 14,
     "metadata": {},
     "output_type": "execute_result"
    }
   ],
   "source": [
    "#create a dataframe from the collected data\n",
    "\n",
    "weather_df = pd.DataFrame({\"City\":City, \"Lat\":Lat,\"Lng\":Lng, \"Max Temp\":Max_Temp,\n",
    "                           \"Humidity\":Humidity, \"Cloudiness\":Cloudiness, \"Wind Speed\":Wind_Speed,\n",
    "                           \"Country\" : Country, \"Date\": Date})\n",
    "weather_df.head()"
   ]
  },
  {
   "cell_type": "code",
   "execution_count": 19,
   "id": "46c22ba5-488f-4ed6-b282-04bafd5428a4",
   "metadata": {},
   "outputs": [],
   "source": [
    "# write the data to a csv file and store it in the output folder\n",
    "weather_csv = weather_df.copy()\n",
    "\n",
    "weather_csv.to_csv(r'../output_data/cities.csv')"
   ]
  },
  {
   "cell_type": "code",
   "execution_count": 36,
   "id": "8d26aec4-da52-48fe-a541-3adcd57d976e",
   "metadata": {},
   "outputs": [
    {
     "data": {
      "image/png": "[encoded data removed]",
      "text/plain": [
       "<Figure size 432x288 with 1 Axes>"
      ]
     },
     "metadata": {
      "needs_background": "light"
     },
     "output_type": "display_data"
    }
   ],
   "source": [
    "#create a scatter plot of latitude vs temperature\n",
    "\n",
    "plt.scatter(weather_df[\"Lat\"],weather_df[\"Max Temp\"])\n",
    "\n",
    "plt.title(\"City Latitude vs Max Temperature (07/24/20)\")\n",
    "plt.xlabel(\"Latitude\")\n",
    "plt.ylabel(\"Max Temperature (F)\")\n",
    "plt.savefig('lat_vs_temp.png')\n",
    "plt.show()"
   ]
  },
  {
   "cell_type": "code",
   "execution_count": 30,
   "id": "a995c852-e8f1-4630-9e7d-5f20dcacc75e",
   "metadata": {},
   "outputs": [],
   "source": [
    "# The above scatter plot show the relationship between a city's latitude and its max temperature on 07/24/21.\n",
    "# As can be seen, latitudes further from zero tend to have lower max temperatures on this date."
   ]
  },
  {
   "cell_type": "code",
   "execution_count": 37,
   "id": "9680f794-385f-45dd-bb08-f5585dc6ad98",
   "metadata": {},
   "outputs": [
    {
     "data": {
      "image/png": "[encoded data removed]",
      "text/plain": [
       "<Figure size 432x288 with 1 Axes>"
      ]
     },
     "metadata": {
      "needs_background": "light"
     },
     "output_type": "display_data"
    }
   ],
   "source": [
    "# create a scatter plot of latitude vs humidity\n",
    "plt.scatter(weather_df[\"Lat\"],weather_df[\"Humidity\"])\n",
    "\n",
    "plt.title(\"City Latitude vs Humidity (07/24/20)\")\n",
    "plt.xlabel(\"Latitude\")\n",
    "plt.ylabel(\"Humidity (%)\")\n",
    "plt.savefig('lat_vs_humidity.png')\n",
    "plt.show()"
   ]
  },
  {
   "cell_type": "code",
   "execution_count": 31,
   "id": "2248a24a-c50f-4c0a-8958-986c5d800560",
   "metadata": {},
   "outputs": [],
   "source": [
    "# The above scatter plot shows the relationship between a city's latitude and its humidity on 07/24/21\n",
    "# There appears to be no significant correlation between the two on this date.\n"
   ]
  },
  {
   "cell_type": "code",
   "execution_count": 39,
   "id": "f19179b0-9b8c-45b9-9329-e4fbd4b98dd8",
   "metadata": {},
   "outputs": [
    {
     "data": {
      "image/png": "[encoded data removed]",
      "text/plain": [
       "<Figure size 432x288 with 1 Axes>"
      ]
     },
     "metadata": {
      "needs_background": "light"
     },
     "output_type": "display_data"
    }
   ],
   "source": [
    "#create a scatter plot of latitude vs cloudiness\n",
    "\n",
    "plt.scatter(weather_df[\"Lat\"],weather_df[\"Cloudiness\"])\n",
    "\n",
    "plt.title(\"City Latitude vs Cloudiness (07/24/20)\")\n",
    "plt.xlabel(\"Latitude\")\n",
    "plt.ylabel(\"Cloudiness (%)\")\n",
    "plt.savefig('lat_vs_cloudiness.png')\n",
    "plt.show()"
   ]
  },
  {
   "cell_type": "code",
   "execution_count": 33,
   "id": "bafc50d6-77c5-4614-9544-d2a0437c8368",
   "metadata": {},
   "outputs": [],
   "source": [
    "# The above scatter plot show the relationship between a city's latitude and its humidity on 07/24/21\n",
    "# There does not appear to be a significant correlation, howevever the data seems to fall more at high or low degrees of cloudiness\n",
    "# than at more moderate degrees of cloudiness"
   ]
  },
  {
   "cell_type": "code",
   "execution_count": 41,
   "id": "1500a269-f199-4747-ac51-5221abccdeb6",
   "metadata": {},
   "outputs": [
    {
     "data": {
      "image/png": "[encoded data removed]",
      "text/plain": [
       "<Figure size 432x288 with 1 Axes>"
      ]
     },
     "metadata": {
      "needs_background": "light"
     },
     "output_type": "display_data"
    }
   ],
   "source": [
    "#create a scatter plot of latitude vs wind speed\n",
    "\n",
    "plt.scatter(weather_df[\"Lat\"],weather_df[\"Wind Speed\"])\n",
    "\n",
    "plt.title(\"City Latitude vs Wind Speed (07/24/20)\")\n",
    "plt.xlabel(\"Latitude\")\n",
    "plt.ylabel(\"Wind Speed (mph)\")\n",
    "plt.savefig('lat_vs_wind.png')\n",
    "plt.show()"
   ]
  },
  {
   "cell_type": "code",
   "execution_count": 35,
   "id": "1ff81623-6fcc-4057-b76b-fbe2cdd38d22",
   "metadata": {},
   "outputs": [],
   "source": [
    "# The above scatter plot show the relationship between a city's latitude and its wind speed on 07/24/21\n",
    "# There does not appear to be a particularly significant correlation between the two on this date"
   ]
  },
  {
   "cell_type": "code",
   "execution_count": 47,
   "id": "49a8a49d-06b3-4b80-b56c-7e5121f4db83",
   "metadata": {},
   "outputs": [
    {
     "data": {
      "text/html": [
       "<div>\n",
       "<style scoped>\n",
       "    .dataframe tbody tr th:only-of-type {\n",
       "        vertical-align: middle;\n",
       "    }\n",
       "\n",
       "    .dataframe tbody tr th {\n",
       "        vertical-align: top;\n",
       "    }\n",
       "\n",
       "    .dataframe thead th {\n",
       "        text-align: right;\n",
       "    }\n",
       "</style>\n",
       "<table border=\"1\" class=\"dataframe\">\n",
       "  <thead>\n",
       "    <tr style=\"text-align: right;\">\n",
       "      <th></th>\n",
       "      <th>City</th>\n",
       "      <th>Lat</th>\n",
       "      <th>Lng</th>\n",
       "      <th>Max Temp</th>\n",
       "      <th>Humidity</th>\n",
       "      <th>Cloudiness</th>\n",
       "      <th>Wind Speed</th>\n",
       "      <th>Country</th>\n",
       "      <th>Date</th>\n",
       "    </tr>\n",
       "  </thead>\n",
       "  <tbody>\n",
       "    <tr>\n",
       "      <th>0</th>\n",
       "      <td>Hobart</td>\n",
       "      <td>-42.8794</td>\n",
       "      <td>147.3294</td>\n",
       "      <td>44.92</td>\n",
       "      <td>77</td>\n",
       "      <td>99</td>\n",
       "      <td>1.99</td>\n",
       "      <td>AU</td>\n",
       "      <td>1627148245</td>\n",
       "    </tr>\n",
       "    <tr>\n",
       "      <th>2</th>\n",
       "      <td>Atuona</td>\n",
       "      <td>-9.8000</td>\n",
       "      <td>-139.0333</td>\n",
       "      <td>77.97</td>\n",
       "      <td>70</td>\n",
       "      <td>96</td>\n",
       "      <td>16.20</td>\n",
       "      <td>PF</td>\n",
       "      <td>1627147805</td>\n",
       "    </tr>\n",
       "    <tr>\n",
       "      <th>3</th>\n",
       "      <td>Vao</td>\n",
       "      <td>-22.6667</td>\n",
       "      <td>167.4833</td>\n",
       "      <td>70.81</td>\n",
       "      <td>84</td>\n",
       "      <td>19</td>\n",
       "      <td>5.68</td>\n",
       "      <td>NC</td>\n",
       "      <td>1627147805</td>\n",
       "    </tr>\n",
       "    <tr>\n",
       "      <th>4</th>\n",
       "      <td>Codrington</td>\n",
       "      <td>-38.2667</td>\n",
       "      <td>141.9667</td>\n",
       "      <td>44.98</td>\n",
       "      <td>76</td>\n",
       "      <td>99</td>\n",
       "      <td>23.40</td>\n",
       "      <td>AU</td>\n",
       "      <td>1627147806</td>\n",
       "    </tr>\n",
       "    <tr>\n",
       "      <th>6</th>\n",
       "      <td>Ushuaia</td>\n",
       "      <td>-54.8000</td>\n",
       "      <td>-68.3000</td>\n",
       "      <td>38.82</td>\n",
       "      <td>87</td>\n",
       "      <td>40</td>\n",
       "      <td>5.75</td>\n",
       "      <td>AR</td>\n",
       "      <td>1627147806</td>\n",
       "    </tr>\n",
       "    <tr>\n",
       "      <th>...</th>\n",
       "      <td>...</td>\n",
       "      <td>...</td>\n",
       "      <td>...</td>\n",
       "      <td>...</td>\n",
       "      <td>...</td>\n",
       "      <td>...</td>\n",
       "      <td>...</td>\n",
       "      <td>...</td>\n",
       "      <td>...</td>\n",
       "    </tr>\n",
       "    <tr>\n",
       "      <th>518</th>\n",
       "      <td>Sambava</td>\n",
       "      <td>-14.2667</td>\n",
       "      <td>50.1667</td>\n",
       "      <td>68.72</td>\n",
       "      <td>77</td>\n",
       "      <td>19</td>\n",
       "      <td>12.84</td>\n",
       "      <td>MG</td>\n",
       "      <td>1627147940</td>\n",
       "    </tr>\n",
       "    <tr>\n",
       "      <th>519</th>\n",
       "      <td>Booué</td>\n",
       "      <td>-0.0921</td>\n",
       "      <td>11.9385</td>\n",
       "      <td>83.34</td>\n",
       "      <td>51</td>\n",
       "      <td>86</td>\n",
       "      <td>3.27</td>\n",
       "      <td>GA</td>\n",
       "      <td>1627147943</td>\n",
       "    </tr>\n",
       "    <tr>\n",
       "      <th>526</th>\n",
       "      <td>Nampula</td>\n",
       "      <td>-15.1165</td>\n",
       "      <td>39.2666</td>\n",
       "      <td>66.15</td>\n",
       "      <td>63</td>\n",
       "      <td>75</td>\n",
       "      <td>13.80</td>\n",
       "      <td>MZ</td>\n",
       "      <td>1627147945</td>\n",
       "    </tr>\n",
       "    <tr>\n",
       "      <th>538</th>\n",
       "      <td>Tshikapa</td>\n",
       "      <td>-6.4167</td>\n",
       "      <td>20.8000</td>\n",
       "      <td>83.53</td>\n",
       "      <td>25</td>\n",
       "      <td>19</td>\n",
       "      <td>3.91</td>\n",
       "      <td>CD</td>\n",
       "      <td>1627147949</td>\n",
       "    </tr>\n",
       "    <tr>\n",
       "      <th>540</th>\n",
       "      <td>Hualmay</td>\n",
       "      <td>-11.0964</td>\n",
       "      <td>-77.6139</td>\n",
       "      <td>68.43</td>\n",
       "      <td>69</td>\n",
       "      <td>28</td>\n",
       "      <td>9.75</td>\n",
       "      <td>PE</td>\n",
       "      <td>1627147853</td>\n",
       "    </tr>\n",
       "  </tbody>\n",
       "</table>\n",
       "<p>182 rows × 9 columns</p>\n",
       "</div>"
      ],
      "text/plain": [
       "           City      Lat       Lng  Max Temp  Humidity  Cloudiness  \\\n",
       "0        Hobart -42.8794  147.3294     44.92        77          99   \n",
       "2        Atuona  -9.8000 -139.0333     77.97        70          96   \n",
       "3           Vao -22.6667  167.4833     70.81        84          19   \n",
       "4    Codrington -38.2667  141.9667     44.98        76          99   \n",
       "6       Ushuaia -54.8000  -68.3000     38.82        87          40   \n",
       "..          ...      ...       ...       ...       ...         ...   \n",
       "518     Sambava -14.2667   50.1667     68.72        77          19   \n",
       "519       Booué  -0.0921   11.9385     83.34        51          86   \n",
       "526     Nampula -15.1165   39.2666     66.15        63          75   \n",
       "538    Tshikapa  -6.4167   20.8000     83.53        25          19   \n",
       "540     Hualmay -11.0964  -77.6139     68.43        69          28   \n",
       "\n",
       "     Wind Speed Country        Date  \n",
       "0          1.99      AU  1627148245  \n",
       "2         16.20      PF  1627147805  \n",
       "3          5.68      NC  1627147805  \n",
       "4         23.40      AU  1627147806  \n",
       "6          5.75      AR  1627147806  \n",
       "..          ...     ...         ...  \n",
       "518       12.84      MG  1627147940  \n",
       "519        3.27      GA  1627147943  \n",
       "526       13.80      MZ  1627147945  \n",
       "538        3.91      CD  1627147949  \n",
       "540        9.75      PE  1627147853  \n",
       "\n",
       "[182 rows x 9 columns]"
      ]
     },
     "execution_count": 47,
     "metadata": {},
     "output_type": "execute_result"
    }
   ],
   "source": [
    "#create separate dataframes for Northern and Southern hemisphere\n",
    "\n",
    "north_df = weather_df.loc[weather_df['Lat'] > 0]\n",
    "north_df\n",
    "\n",
    "south_df = weather_df.loc[weather_df['Lat'] < 0]\n",
    "south_df"
   ]
  },
  {
   "cell_type": "code",
   "execution_count": 58,
   "id": "1d8e38dc-5084-4ec4-9abe-6f3cc45e6e03",
   "metadata": {},
   "outputs": [
    {
     "name": "stdout",
     "output_type": "stream",
     "text": [
      "For Nothern Hemisphere Latitude vs Temperature the Pearson r value is -0.681726129746828 and the Pearson p value is 8.484624952213e-51\n"
     ]
    },
    {
     "data": {
      "text/plain": [
       "1      75.414837\n",
       "5      86.379681\n",
       "7      85.870378\n",
       "10     63.573788\n",
       "11     68.902120\n",
       "         ...    \n",
       "537    86.173973\n",
       "539    75.427112\n",
       "541    63.802058\n",
       "542    64.480094\n",
       "543    92.289077\n",
       "Name: Lat, Length: 362, dtype: float64"
      ]
     },
     "execution_count": 58,
     "metadata": {},
     "output_type": "execute_result"
    }
   ],
   "source": [
    "#calculate linear regression for temperature vs latitude for only Northern Hemisphere cities\n",
    "nt_pearson = st.pearsonr(north_df[\"Lat\"],north_df[\"Max Temp\"])\n",
    "print(f\"For Nothern Hemisphere Latitude vs Temperature the Pearson r value is {nt_pearson[0]} and the Pearson p value is {nt_pearson[1]}\")\n",
    "\n",
    "(slope, intercept, rvalue, pvalue, stderr) = linregress(north_df[\"Lat\"],north_df[\"Max Temp\"])\n",
    "\n",
    "nt_regress_values = (north_df[\"Lat\"] * slope + intercept)\n",
    "\n",
    "nt_regress_values"
   ]
  },
  {
   "cell_type": "code",
   "execution_count": 57,
   "id": "75cbfcc8-d9c8-48d8-be3d-7a7d1fca0c0a",
   "metadata": {},
   "outputs": [
    {
     "data": {
      "image/png": "[encoded data removed]",
      "text/plain": [
       "<Figure size 432x288 with 1 Axes>"
      ]
     },
     "metadata": {
      "needs_background": "light"
     },
     "output_type": "display_data"
    }
   ],
   "source": [
    "#create a Latutide vs Temperature scatter plot with linear regression for only Northern Hemisphere cities\n",
    "\n",
    "plt.scatter(north_df[\"Lat\"],north_df[\"Max Temp\"])\n",
    "plt.xlabel(\"Latitude\")\n",
    "plt.ylabel(\"Max Temperature (F)\")\n",
    "plt.title(\"Northern Hemisphere - Max Temp vs. Latitude Linear Regression\")\n",
    "plt.plot(north_df[\"Lat\"], nt_regress_values, \"r-\")\n",
    "plt.savefig('north_temp_regression.png')\n",
    "plt.show()\n",
    "\n"
   ]
  },
  {
   "cell_type": "code",
   "execution_count": 59,
   "id": "1eb62863-a381-4eb7-ab52-5a72aaa04598",
   "metadata": {},
   "outputs": [
    {
     "name": "stdout",
     "output_type": "stream",
     "text": [
      "For Southern Hemisphere Latitude vs Temperature the Pearson r value is -0.681726129746828 and the Pearson p value is 8.484624952213e-51\n"
     ]
    },
    {
     "data": {
      "text/plain": [
       "0      49.049573\n",
       "2      77.373018\n",
       "3      66.356214\n",
       "4      52.999087\n",
       "6      38.842845\n",
       "         ...    \n",
       "518    73.548513\n",
       "519    85.685175\n",
       "526    72.820892\n",
       "538    80.269888\n",
       "540    76.263006\n",
       "Name: Lat, Length: 182, dtype: float64"
      ]
     },
     "execution_count": 59,
     "metadata": {},
     "output_type": "execute_result"
    }
   ],
   "source": [
    "#calculate linear regression for temperature vs latitude for only Southern Hemisphere cities\n",
    "st_pearson = st.pearsonr(south_df[\"Lat\"],south_df[\"Max Temp\"])\n",
    "print(f\"For Southern Hemisphere Latitude vs Temperature the Pearson r value is {nt_pearson[0]} and the Pearson p value is {nt_pearson[1]}\")\n",
    "\n",
    "(slope, intercept, rvalue, pvalue, stderr) = linregress(south_df[\"Lat\"],south_df[\"Max Temp\"])\n",
    "\n",
    "st_regress_values = (south_df[\"Lat\"] * slope + intercept)\n",
    "\n",
    "st_regress_values"
   ]
  },
  {
   "cell_type": "code",
   "execution_count": 64,
   "id": "af312c0a-50e3-4250-966a-1fb68cc6a756",
   "metadata": {},
   "outputs": [
    {
     "data": {
      "image/png": "[encoded data removed]",
      "text/plain": [
       "<Figure size 432x288 with 1 Axes>"
      ]
     },
     "metadata": {
      "needs_background": "light"
     },
     "output_type": "display_data"
    }
   ],
   "source": [
    "#create a Latutide vs Temperature scatter plot with linear regression for only Southern Hemisphere cities\n",
    "\n",
    "plt.scatter(south_df[\"Lat\"],south_df[\"Max Temp\"])\n",
    "plt.xlabel(\"Latitude\")\n",
    "plt.ylabel(\"Max Temperature (F)\")\n",
    "plt.title(\"Southern Hemisphere - Max Temp vs. Latitude Linear Regression\")\n",
    "plt.plot(south_df[\"Lat\"], st_regress_values, \"r-\")\n",
    "plt.savefig('south_temp_regression.png')\n",
    "plt.show()\n"
   ]
  },
  {
   "cell_type": "code",
   "execution_count": 61,
   "id": "5283939e-efbe-4e31-9014-e75a56ef5fbd",
   "metadata": {},
   "outputs": [],
   "source": [
    "# The above scatter plots with linear regression show the relationship between temperature and distance from the equator.\n",
    "# For cities in both hemispheres, the linear regression shows that there is a negative correlation between distance from the equator and temperature."
   ]
  },
  {
   "cell_type": "code",
   "execution_count": 62,
   "id": "51e7b3d8-f1aa-4e30-9ff9-2d0e25214d3c",
   "metadata": {},
   "outputs": [
    {
     "name": "stdout",
     "output_type": "stream",
     "text": [
      "For Nothern Hemisphere Latitude vs Humidity the Pearson r value is 0.1405408621698262 and the Pearson p value is 0.007405697544832004\n"
     ]
    },
    {
     "data": {
      "text/plain": [
       "1      68.964801\n",
       "5      65.679936\n",
       "7      65.832514\n",
       "10     72.512161\n",
       "11     70.915891\n",
       "         ...    \n",
       "537    65.741562\n",
       "539    68.961124\n",
       "541    72.443775\n",
       "542    72.240648\n",
       "543    63.909590\n",
       "Name: Lat, Length: 362, dtype: float64"
      ]
     },
     "execution_count": 62,
     "metadata": {},
     "output_type": "execute_result"
    }
   ],
   "source": [
    "#calculate linear regression for humidity vs latitude for only Northern Hemisphere cities\n",
    "nh_pearson = st.pearsonr(north_df[\"Lat\"],north_df[\"Humidity\"])\n",
    "print(f\"For Nothern Hemisphere Latitude vs Humidity the Pearson r value is {nh_pearson[0]} and the Pearson p value is {nh_pearson[1]}\")\n",
    "\n",
    "(slope, intercept, rvalue, pvalue, stderr) = linregress(north_df[\"Lat\"],north_df[\"Humidity\"])\n",
    "\n",
    "nh_regress_values = (north_df[\"Lat\"] * slope + intercept)\n",
    "\n",
    "nh_regress_values"
   ]
  },
  {
   "cell_type": "code",
   "execution_count": 63,
   "id": "b494d021-d905-4de5-81d6-2ced93c49444",
   "metadata": {},
   "outputs": [
    {
     "data": {
      "image/png": "[encoded data removed]",
      "text/plain": [
       "<Figure size 432x288 with 1 Axes>"
      ]
     },
     "metadata": {
      "needs_background": "light"
     },
     "output_type": "display_data"
    }
   ],
   "source": [
    "#create a Latutide vs Humidity scatter plot with linear regression for only Northern Hemisphere cities\n",
    "\n",
    "plt.scatter(north_df[\"Lat\"],north_df[\"Humidity\"])\n",
    "plt.xlabel(\"Latitude\")\n",
    "plt.ylabel(\"Humidity (%)\")\n",
    "plt.title(\"Northern Hemisphere - Humidity vs. Latitude Linear Regression\")\n",
    "plt.plot(north_df[\"Lat\"], nh_regress_values, \"r-\")\n",
    "plt.savefig('north_humid_regression.png')\n",
    "plt.show()"
   ]
  },
  {
   "cell_type": "code",
   "execution_count": 68,
   "id": "6576beee-0975-4039-8933-ccac9d0b9311",
   "metadata": {},
   "outputs": [
    {
     "name": "stdout",
     "output_type": "stream",
     "text": [
      "For Southern Hemisphere Latitude vs Humidity the Pearson r value is -0.12032928866471725 and the Pearson p value is 0.10565596915651178\n"
     ]
    },
    {
     "data": {
      "text/plain": [
       "0      65.282067\n",
       "2      58.456039\n",
       "3      61.111119\n",
       "4      64.330224\n",
       "6      67.741917\n",
       "         ...    \n",
       "518    59.377755\n",
       "519    56.452786\n",
       "526    59.553114\n",
       "538    57.757885\n",
       "540    58.723555\n",
       "Name: Lat, Length: 182, dtype: float64"
      ]
     },
     "execution_count": 68,
     "metadata": {},
     "output_type": "execute_result"
    }
   ],
   "source": [
    "#calculate linear regression for humidity vs latitude for only Southern Hemisphere cities\n",
    "sh_pearson = st.pearsonr(south_df[\"Lat\"],south_df[\"Humidity\"])\n",
    "print(f\"For Southern Hemisphere Latitude vs Humidity the Pearson r value is {sh_pearson[0]} and the Pearson p value is {sh_pearson[1]}\")\n",
    "\n",
    "(slope, intercept, rvalue, pvalue, stderr) = linregress(south_df[\"Lat\"],south_df[\"Humidity\"])\n",
    "\n",
    "sh_regress_values = (south_df[\"Lat\"] * slope + intercept)\n",
    "\n",
    "sh_regress_values"
   ]
  },
  {
   "cell_type": "code",
   "execution_count": 69,
   "id": "8433f794-9ab0-4fd3-83e8-88d4ba4237b0",
   "metadata": {},
   "outputs": [
    {
     "data": {
      "image/png": "[encoded data removed]",
      "text/plain": [
       "<Figure size 432x288 with 1 Axes>"
      ]
     },
     "metadata": {
      "needs_background": "light"
     },
     "output_type": "display_data"
    }
   ],
   "source": [
    "#create a Latutide vs Humidity scatter plot with linear regression for only Southern Hemisphere cities\n",
    "\n",
    "plt.scatter(south_df[\"Lat\"],south_df[\"Humidity\"])\n",
    "plt.xlabel(\"Latitude\")\n",
    "plt.ylabel(\"Humidity (%)\")\n",
    "plt.title(\"Southern Hemisphere - Humidty vs. Latitude Linear Regression\")\n",
    "plt.plot(south_df[\"Lat\"], sh_regress_values, \"r-\")\n",
    "plt.savefig('south_humid_regression.png')\n",
    "plt.show()"
   ]
  },
  {
   "cell_type": "code",
   "execution_count": 67,
   "id": "5d26ea09-fc1e-497c-8086-42d4a407b911",
   "metadata": {},
   "outputs": [],
   "source": [
    "# The above linear regressions show that there is not a strong correlation between latitude and humidity for either the Northern hemisphere\n",
    "# or the Southern hemisphere."
   ]
  },
  {
   "cell_type": "code",
   "execution_count": 70,
   "id": "44e3473b-ae86-4bc6-aee6-3051a42115bb",
   "metadata": {},
   "outputs": [
    {
     "name": "stdout",
     "output_type": "stream",
     "text": [
      "For Nothern Hemisphere Latitude vs Cloudiness the Pearson r value is 0.08133005680200557 and the Pearson p value is 0.12243872032376597\n"
     ]
    },
    {
     "data": {
      "text/plain": [
       "1      57.013858\n",
       "5      53.707276\n",
       "7      53.860863\n",
       "10     60.584671\n",
       "11     58.977847\n",
       "         ...    \n",
       "537    53.769310\n",
       "539    57.010157\n",
       "541    60.515833\n",
       "542    60.311363\n",
       "543    51.925226\n",
       "Name: Lat, Length: 362, dtype: float64"
      ]
     },
     "execution_count": 70,
     "metadata": {},
     "output_type": "execute_result"
    }
   ],
   "source": [
    "#calculate linear regression for cloudiness vs latitude for only Northern Hemisphere cities\n",
    "nc_pearson = st.pearsonr(north_df[\"Lat\"],north_df[\"Cloudiness\"])\n",
    "print(f\"For Nothern Hemisphere Latitude vs Cloudiness the Pearson r value is {nc_pearson[0]} and the Pearson p value is {nc_pearson[1]}\")\n",
    "\n",
    "(slope, intercept, rvalue, pvalue, stderr) = linregress(north_df[\"Lat\"],north_df[\"Cloudiness\"])\n",
    "\n",
    "nc_regress_values = (north_df[\"Lat\"] * slope + intercept)\n",
    "\n",
    "nc_regress_values"
   ]
  },
  {
   "cell_type": "code",
   "execution_count": 71,
   "id": "b0f834fe-1ae4-44d2-9ca2-446c13f3e044",
   "metadata": {},
   "outputs": [
    {
     "data": {
      "image/png": "[encoded data removed]",
      "text/plain": [
       "<Figure size 432x288 with 1 Axes>"
      ]
     },
     "metadata": {
      "needs_background": "light"
     },
     "output_type": "display_data"
    }
   ],
   "source": [
    "#create a Latutide vs Humidity scatter plot with linear regression for only Northern Hemisphere cities\n",
    "\n",
    "plt.scatter(north_df[\"Lat\"],north_df[\"Cloudiness\"])\n",
    "plt.xlabel(\"Latitude\")\n",
    "plt.ylabel(\"Cloudiness (%)\")\n",
    "plt.title(\"Northern Hemisphere - Cloudiness vs. Latitude Linear Regression\")\n",
    "plt.plot(north_df[\"Lat\"], nc_regress_values, \"r-\")\n",
    "plt.savefig('north_cloud_regression.png')\n",
    "plt.show()"
   ]
  },
  {
   "cell_type": "code",
   "execution_count": 72,
   "id": "2b2a51de-5e02-4446-8d0a-d70f6ebfb4f8",
   "metadata": {},
   "outputs": [
    {
     "name": "stdout",
     "output_type": "stream",
     "text": [
      "For Southern Hemisphere Latitude vs Cloudiness the Pearson r value is -0.2021735193715434 and the Pearson p value is 0.006200230813112884\n"
     ]
    },
    {
     "data": {
      "text/plain": [
       "0      52.163417\n",
       "2      33.561529\n",
       "3      40.796996\n",
       "4      49.569508\n",
       "6      58.866853\n",
       "         ...    \n",
       "518    36.073336\n",
       "519    28.102383\n",
       "526    36.551213\n",
       "538    31.658962\n",
       "540    34.290547\n",
       "Name: Lat, Length: 182, dtype: float64"
      ]
     },
     "execution_count": 72,
     "metadata": {},
     "output_type": "execute_result"
    }
   ],
   "source": [
    "#calculate linear regression for cloudiness vs latitude for only Southern Hemisphere cities\n",
    "sc_pearson = st.pearsonr(south_df[\"Lat\"],south_df[\"Cloudiness\"])\n",
    "print(f\"For Southern Hemisphere Latitude vs Cloudiness the Pearson r value is {sc_pearson[0]} and the Pearson p value is {sc_pearson[1]}\")\n",
    "\n",
    "(slope, intercept, rvalue, pvalue, stderr) = linregress(south_df[\"Lat\"],south_df[\"Cloudiness\"])\n",
    "\n",
    "sc_regress_values = (south_df[\"Lat\"] * slope + intercept)\n",
    "\n",
    "sc_regress_values"
   ]
  },
  {
   "cell_type": "code",
   "execution_count": 73,
   "id": "82a36fb9-9dc6-4c42-b6d8-97f17a6c2ee2",
   "metadata": {},
   "outputs": [
    {
     "data": {
      "image/png": "[encoded data removed]",
      "text/plain": [
       "<Figure size 432x288 with 1 Axes>"
      ]
     },
     "metadata": {
      "needs_background": "light"
     },
     "output_type": "display_data"
    }
   ],
   "source": [
    "#create a Latutide vs Cloudiness scatter plot with linear regression for only Southern Hemisphere cities\n",
    "\n",
    "plt.scatter(south_df[\"Lat\"],south_df[\"Cloudiness\"])\n",
    "plt.xlabel(\"Latitude\")\n",
    "plt.ylabel(\"Cloudiness (%)\")\n",
    "plt.title(\"Southern Hemisphere - Cloudiness vs. Latitude Linear Regression\")\n",
    "plt.plot(south_df[\"Lat\"], sc_regress_values, \"r-\")\n",
    "plt.savefig('south_cloud_regression.png')\n",
    "plt.show()"
   ]
  },
  {
   "cell_type": "code",
   "execution_count": 74,
   "id": "0ee7e813-64b6-478e-8cb0-b625d2a1ea53",
   "metadata": {},
   "outputs": [],
   "source": [
    "# The linear regressions above show that there is a much stronger correlation between distance from the equator and cloudiness for cities in the Southern hemisphere\n",
    "# than for cities in the Northern hemisphere."
   ]
  },
  {
   "cell_type": "code",
   "execution_count": 75,
   "id": "a1a428c5-aa2b-400c-ad5b-151d497630b2",
   "metadata": {},
   "outputs": [
    {
     "name": "stdout",
     "output_type": "stream",
     "text": [
      "For Nothern Hemisphere Latitude vs Wind Speed the Pearson r value is -0.14155340321701018 and the Pearson p value is 0.006985844967602004\n"
     ]
    },
    {
     "data": {
      "text/plain": [
       "1      8.203217\n",
       "5      9.037011\n",
       "7      8.998282\n",
       "10     7.302793\n",
       "11     7.707973\n",
       "         ...   \n",
       "537    9.021369\n",
       "539    8.204150\n",
       "541    7.320152\n",
       "542    7.371711\n",
       "543    9.486377\n",
       "Name: Lat, Length: 362, dtype: float64"
      ]
     },
     "execution_count": 75,
     "metadata": {},
     "output_type": "execute_result"
    }
   ],
   "source": [
    "#calculate linear regression for wind speed vs latitude for only Northern Hemisphere cities\n",
    "nw_pearson = st.pearsonr(north_df[\"Lat\"],north_df[\"Wind Speed\"])\n",
    "print(f\"For Nothern Hemisphere Latitude vs Wind Speed the Pearson r value is {nw_pearson[0]} and the Pearson p value is {nw_pearson[1]}\")\n",
    "\n",
    "(slope, intercept, rvalue, pvalue, stderr) = linregress(north_df[\"Lat\"],north_df[\"Wind Speed\"])\n",
    "\n",
    "nw_regress_values = (north_df[\"Lat\"] * slope + intercept)\n",
    "\n",
    "nw_regress_values"
   ]
  },
  {
   "cell_type": "code",
   "execution_count": 76,
   "id": "97feeacf-9b0b-4233-bf7a-acc988baed91",
   "metadata": {},
   "outputs": [
    {
     "data": {
      "image/png": "[encoded data removed]",
      "text/plain": [
       "<Figure size 432x288 with 1 Axes>"
      ]
     },
     "metadata": {
      "needs_background": "light"
     },
     "output_type": "display_data"
    }
   ],
   "source": [
    "#create a Latutide vs Wind Speed scatter plot with linear regression for only Northern Hemisphere cities\n",
    "\n",
    "plt.scatter(north_df[\"Lat\"],north_df[\"Wind Speed\"])\n",
    "plt.xlabel(\"Latitude\")\n",
    "plt.ylabel(\"Wind Speed (mph)\")\n",
    "plt.title(\"Northern Hemisphere - Wind Speed vs. Latitude Linear Regression\")\n",
    "plt.plot(north_df[\"Lat\"], nw_regress_values, \"r-\")\n",
    "plt.savefig('north_wind_regression.png')\n",
    "plt.show()"
   ]
  },
  {
   "cell_type": "code",
   "execution_count": 77,
   "id": "0bbea1d7-a12e-46d7-991e-eb6d38ed4634",
   "metadata": {},
   "outputs": [
    {
     "name": "stdout",
     "output_type": "stream",
     "text": [
      "For Southern Hemisphere Latitude vs Wind Speed the Pearson r value is -0.06846139516810688 and the Pearson p value is 0.3584570200646672\n"
     ]
    },
    {
     "data": {
      "text/plain": [
       "0       9.686244\n",
       "2       8.736189\n",
       "3       9.105727\n",
       "4       9.553765\n",
       "6      10.028609\n",
       "         ...    \n",
       "518     8.864475\n",
       "519     8.457374\n",
       "526     8.888882\n",
       "538     8.639020\n",
       "540     8.773423\n",
       "Name: Lat, Length: 182, dtype: float64"
      ]
     },
     "execution_count": 77,
     "metadata": {},
     "output_type": "execute_result"
    }
   ],
   "source": [
    "#calculate linear regression for cloudiness vs latitude for only Southern Hemisphere cities\n",
    "sw_pearson = st.pearsonr(south_df[\"Lat\"],south_df[\"Wind Speed\"])\n",
    "print(f\"For Southern Hemisphere Latitude vs Wind Speed the Pearson r value is {sw_pearson[0]} and the Pearson p value is {sw_pearson[1]}\")\n",
    "\n",
    "(slope, intercept, rvalue, pvalue, stderr) = linregress(south_df[\"Lat\"],south_df[\"Wind Speed\"])\n",
    "\n",
    "sw_regress_values = (south_df[\"Lat\"] * slope + intercept)\n",
    "\n",
    "sw_regress_values"
   ]
  },
  {
   "cell_type": "code",
   "execution_count": 78,
   "id": "4902933b-442d-495f-a881-784c3cf3007a",
   "metadata": {},
   "outputs": [
    {
     "data": {
      "image/png": "[encoded data removed]",
      "text/plain": [
       "<Figure size 432x288 with 1 Axes>"
      ]
     },
     "metadata": {
      "needs_background": "light"
     },
     "output_type": "display_data"
    }
   ],
   "source": [
    "#create a Latutide vs Cloudiness scatter plot with linear regression for only Southern Hemisphere cities\n",
    "\n",
    "plt.scatter(south_df[\"Lat\"],south_df[\"Wind Speed\"])\n",
    "plt.xlabel(\"Latitude\")\n",
    "plt.ylabel(\"Wind Speed (mph)\")\n",
    "plt.title(\"Southern Hemisphere - Wind Speed vs. Latitude Linear Regression\")\n",
    "plt.plot(south_df[\"Lat\"], sw_regress_values, \"r-\")\n",
    "plt.savefig('south_wind_regression.png')\n",
    "plt.show()"
   ]
  },
  {
   "cell_type": "code",
   "execution_count": 79,
   "id": "f695f207-4850-4b8c-b0e1-5e01a3290da6",
   "metadata": {},
   "outputs": [],
   "source": [
    "#The above linear regressions show little relationship between distance fromt the equator and a city's wind speed."
   ]
  },
  {
   "cell_type": "code",
   "execution_count": null,
   "id": "3455f75b-a9e9-4733-945a-54b47abac8de",
   "metadata": {},
   "outputs": [],
   "source": []
  }
 ],
 "metadata": {
  "kernelspec": {
   "display_name": "Python 3",
   "language": "python",
   "name": "python3"
  },
  "language_info": {
   "codemirror_mode": {
    "name": "ipython",
    "version": 3
   },
   "file_extension": ".py",
   "mimetype": "text/x-python",
   "name": "python",
   "nbconvert_exporter": "python",
   "pygments_lexer": "ipython3",
   "version": "3.7.10"
  }
 },
 "nbformat": 4,
 "nbformat_minor": 5
}
