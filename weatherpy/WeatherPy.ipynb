{
 "cells": [
  {
   "cell_type": "code",
   "execution_count": 3,
   "id": "237414ff-6f66-4e04-a835-cc0863a26484",
   "metadata": {},
   "outputs": [
    {
     "name": "stdout",
     "output_type": "stream",
     "text": [
      "Untitled.ipynb         WeatherPyStarter.ipynb api_keys.py\n"
     ]
    }
   ],
   "source": [
    "!ls"
   ]
  },
  {
   "cell_type": "code",
   "execution_count": 1,
   "id": "c291904f-8dee-4b3c-8f73-cdd64f446747",
   "metadata": {},
   "outputs": [],
   "source": [
    "# Dependencies and Setup\n",
    "import matplotlib.pyplot as plt\n",
    "import pandas as pd\n",
    "import numpy as np\n",
    "import requests\n",
    "import time\n",
    "from scipy.stats import linregress\n",
    "from pprint import pprint\n",
    "import json\n",
    "\n",
    "# Import API key\n",
    "from api_keys import weather_api_key\n",
    "\n",
    "# Incorporated citipy to determine city based on latitude and longitude\n",
    "from citipy import citipy\n",
    "\n",
    "# Output File (CSV)\n",
    "output_data_file = \"output_data/cities.csv\"\n",
    "\n",
    "# Range of latitudes and longitudes\n",
    "lat_range = (-90, 90)\n",
    "lng_range = (-180, 180)"
   ]
  },
  {
   "cell_type": "code",
   "execution_count": 2,
   "id": "a20a4737-ffaa-44e4-bb7e-c3ab5670bfbd",
   "metadata": {},
   "outputs": [
    {
     "data": {
      "text/plain": [
       "609"
      ]
     },
     "execution_count": 2,
     "metadata": {},
     "output_type": "execute_result"
    }
   ],
   "source": [
    "# List for holding lat_lngs and cities\n",
    "lat_lngs = []\n",
    "cities = []\n",
    "\n",
    "# Create a set of random lat and lng combinations\n",
    "lats = np.random.uniform(lat_range[0], lat_range[1], size=1500)\n",
    "lngs = np.random.uniform(lng_range[0], lng_range[1], size=1500)\n",
    "lat_lngs = zip(lats, lngs)\n",
    "\n",
    "# Identify nearest city for each lat, lng combination\n",
    "for lat_lng in lat_lngs:\n",
    "    city = citipy.nearest_city(lat_lng[0], lat_lng[1]).city_name\n",
    "    \n",
    "    # If the city is unique, then add it to a our cities list\n",
    "    if city not in cities:\n",
    "        cities.append(city)\n",
    "\n",
    "# Print the city count to confirm sufficient count\n",
    "len(cities)"
   ]
  },
  {
   "cell_type": "code",
   "execution_count": 15,
   "id": "89081070-d0f8-4d51-b8c5-c9a55356c3b9",
   "metadata": {},
   "outputs": [
    {
     "name": "stdout",
     "output_type": "stream",
     "text": [
      "{'base': 'stations',\n",
      " 'clouds': {'all': 11},\n",
      " 'cod': 200,\n",
      " 'coord': {'lat': 41.85, 'lon': -87.65},\n",
      " 'dt': 1627097566,\n",
      " 'id': 4887398,\n",
      " 'main': {'feels_like': 78.73,\n",
      "          'grnd_level': 995,\n",
      "          'humidity': 73,\n",
      "          'pressure': 1015,\n",
      "          'sea_level': 1015,\n",
      "          'temp': 77.81,\n",
      "          'temp_max': 81.18,\n",
      "          'temp_min': 72.32},\n",
      " 'name': 'Chicago',\n",
      " 'sys': {'country': 'US',\n",
      "         'id': 2021194,\n",
      "         'sunrise': 1627036552,\n",
      "         'sunset': 1627089479,\n",
      "         'type': 2},\n",
      " 'timezone': -18000,\n",
      " 'visibility': 10000,\n",
      " 'weather': [{'description': 'few clouds',\n",
      "              'icon': '02n',\n",
      "              'id': 801,\n",
      "              'main': 'Clouds'}],\n",
      " 'wind': {'deg': 203, 'gust': 17.05, 'speed': 7.61}}\n"
     ]
    }
   ],
   "source": [
    "#run a test api call for a single city and print the json response\n",
    "testurl = \"http://api.openweathermap.org/data/2.5/weather?q=\"\n",
    "key = f\"&appid={weather_api_key}\"\n",
    "units = \"&units=imperial\"\n",
    "\n",
    "testresponse = requests.get(testurl + \"chicago\" + key + units).json()\n",
    "pprint(testresponse)"
   ]
  },
  {
   "cell_type": "code",
   "execution_count": 41,
   "id": "79822882-af36-4617-b307-fa66b7ce5c6a",
   "metadata": {},
   "outputs": [
    {
     "data": {
      "text/plain": [
       "'Chicago'"
      ]
     },
     "execution_count": 41,
     "metadata": {},
     "output_type": "execute_result"
    }
   ],
   "source": [
    "testresponse['name']\n"
   ]
  },
  {
   "cell_type": "code",
   "execution_count": 5,
   "id": "8f5bcb26-aee0-4ed1-ac1f-b507bfcd0fc9",
   "metadata": {},
   "outputs": [
    {
     "ename": "NameError",
     "evalue": "name 'cities_weather' is not defined",
     "output_type": "error",
     "traceback": [
      "\u001b[0;31m---------------------------------------------------------------------------\u001b[0m",
      "\u001b[0;31mNameError\u001b[0m                                 Traceback (most recent call last)",
      "\u001b[0;32m<ipython-input-5-37b65552d34d>\u001b[0m in \u001b[0;36m<module>\u001b[0;34m\u001b[0m\n\u001b[1;32m     16\u001b[0m \u001b[0;32mfor\u001b[0m \u001b[0mcity\u001b[0m \u001b[0;32min\u001b[0m \u001b[0mcities\u001b[0m\u001b[0;34m:\u001b[0m\u001b[0;34m\u001b[0m\u001b[0;34m\u001b[0m\u001b[0m\n\u001b[1;32m     17\u001b[0m     \u001b[0mwresponse\u001b[0m \u001b[0;34m=\u001b[0m \u001b[0mrequests\u001b[0m\u001b[0;34m.\u001b[0m\u001b[0mget\u001b[0m\u001b[0;34m(\u001b[0m\u001b[0mcities_url\u001b[0m \u001b[0;34m+\u001b[0m \u001b[0mcity\u001b[0m \u001b[0;34m+\u001b[0m \u001b[0mkey\u001b[0m\u001b[0;34m)\u001b[0m\u001b[0;34m.\u001b[0m\u001b[0mjson\u001b[0m\u001b[0;34m(\u001b[0m\u001b[0;34m)\u001b[0m\u001b[0;34m\u001b[0m\u001b[0;34m\u001b[0m\u001b[0m\n\u001b[0;32m---> 18\u001b[0;31m     \u001b[0mcities_weather\u001b[0m\u001b[0;34m.\u001b[0m\u001b[0mappend\u001b[0m\u001b[0;34m(\u001b[0m\u001b[0mwresponse\u001b[0m\u001b[0;34m)\u001b[0m\u001b[0;34m\u001b[0m\u001b[0;34m\u001b[0m\u001b[0m\n\u001b[0m\u001b[1;32m     19\u001b[0m     \u001b[0mcity_count\u001b[0m \u001b[0;34m+=\u001b[0m\u001b[0;36m1\u001b[0m\u001b[0;34m\u001b[0m\u001b[0;34m\u001b[0m\u001b[0m\n\u001b[1;32m     20\u001b[0m     \u001b[0mprint\u001b[0m\u001b[0;34m(\u001b[0m\u001b[0;34mf\"Processing Record {city_count} for {city}\"\u001b[0m\u001b[0;34m)\u001b[0m\u001b[0;34m\u001b[0m\u001b[0;34m\u001b[0m\u001b[0m\n",
      "\u001b[0;31mNameError\u001b[0m: name 'cities_weather' is not defined"
     ]
    }
   ],
   "source": [
    "cities_url = \"http://api.openweathermap.org/data/2.5/weather?q=\"\n",
    "key = f\"&appid={weather_api_key}\"\n",
    "units = \"&units=imperial\"\n",
    "\n",
    "City = []\n",
    "Lat = []\n",
    "Lng = []\n",
    "Max_Temp = []\n",
    "Humidity = []\n",
    "Cloudiness = []\n",
    "Wind_Speed = []\n",
    "Country = []\n",
    "Date = []\n",
    "\n",
    "city_count = 0\n",
    "\n",
    "for city in cities:\n",
    "    wresponse = requests.get(cities_url + city + key + units).json()\n",
    "    City.append(city)\n",
    "    Lat.append(wresponse['coord']['lat'])\n",
    "    Lng.append(wresponse['coord']['lon'])\n",
    "    Max_Tem.append(wresponse['main']['temp_max'])\n",
    "    Humidity.append(wresponse['main']['humidity'])\n",
    "    Cloudiness.append(wresponse['clouds']['all'])\n",
    "    Wind_Speed.append(wresponse['wind']['speed'])\n",
    "    Country.append(wresponse['sys']['country'])\n",
    "    Date.append(wresponse['dt']\n",
    "    city_count +=1\n",
    "    print(f\"Processing Record {city_count} for {city}\")\n",
    "    "
   ]
  },
  {
   "cell_type": "code",
   "execution_count": 17,
   "id": "6ea3b22f-b769-4753-9c9a-f8869c6469e3",
   "metadata": {},
   "outputs": [],
   "source": [
    "#convert list of json files to a single json\n",
    "weather_string = json.dumps(cities_weather)\n"
   ]
  },
  {
   "cell_type": "code",
   "execution_count": 23,
   "id": "88c15a99-40da-4bc2-b818-12aad4d3f173",
   "metadata": {},
   "outputs": [
    {
     "data": {
      "text/plain": [
       "str"
      ]
     },
     "execution_count": 23,
     "metadata": {},
     "output_type": "execute_result"
    }
   ],
   "source": [
    "type(weather_string)"
   ]
  },
  {
   "cell_type": "code",
   "execution_count": null,
   "id": "9abd92d8-657d-4ce8-86e3-560cd1ae6312",
   "metadata": {},
   "outputs": [],
   "source": []
  }
 ],
 "metadata": {
  "kernelspec": {
   "display_name": "Python 3",
   "language": "python",
   "name": "python3"
  },
  "language_info": {
   "codemirror_mode": {
    "name": "ipython",
    "version": 3
   },
   "file_extension": ".py",
   "mimetype": "text/x-python",
   "name": "python",
   "nbconvert_exporter": "python",
   "pygments_lexer": "ipython3",
   "version": "3.7.10"
  }
 },
 "nbformat": 4,
 "nbformat_minor": 5
}
